{
 "cells": [
  {
   "cell_type": "code",
   "execution_count": 24,
   "metadata": {
    "collapsed": false,
    "scrolled": true
   },
   "outputs": [
    {
     "name": "stdout",
     "output_type": "stream",
     "text": [
      "\n",
      "  ___ ___ ___ _ _ _  \n",
      " |   |   |_  | | | | \n",
      " | | | | | . | | | | \n",
      " |__ |  _|___|_____|  1.3.0\n",
      " |___|_|             \n",
      "\n",
      "User:   Yaroslav@MacBook-Pro-Aroslav-2.local\n",
      "Date:   Wed Mar 28 23:12:03 2018\n",
      "Arch:   x86_64\n",
      "Pid:    664\n",
      "Python: 2.7.14\n",
      "gpaw:   /Users/Yaroslav/Library/Python/2.7/lib/python/site-packages/gpaw\n",
      "_gpaw:  /Users/Yaroslav/Library/Python/2.7/lib/python/site-packages/_gpaw.so\n",
      "ase:    /usr/local/lib/python2.7/site-packages/ase (version 3.15.0)\n",
      "numpy:  /Users/Yaroslav/Library/Python/2.7/lib/python/site-packages/numpy (version 1.13.3)\n",
      "scipy:  /usr/local/lib/python2.7/site-packages/scipy (version 0.19.1)\n",
      "units:  Angstrom and eV\n",
      "cores:  1\n",
      "\n",
      "Input parameters:\n",
      "  kpts: {gamma: True,\n",
      "         size: (2, 2, 1)}\n",
      "  mode: {ecut: 200.0,\n",
      "         name: pw}\n",
      "  occupations: {name: fermi-dirac,\n",
      "                width: 0.01}\n",
      "  setups: {Mo: 6}\n",
      "  xc: PBE\n",
      "\n",
      "Timing:                              incl.     excl.\n",
      "-----------------------------------------------------------\n",
      "Hamiltonian:                         0.262     0.001   0.0% |\n",
      " Atomic:                             0.238     0.001   0.0% |\n",
      "  XC Correction:                     0.237     0.237   0.0% |\n",
      " Calculate atomic Hamiltonians:      0.006     0.006   0.0% |\n",
      " Communicate:                        0.000     0.000   0.0% |\n",
      " Initialize Hamiltonian:             0.000     0.000   0.0% |\n",
      " Poisson:                            0.000     0.000   0.0% |\n",
      " XC 3D grid:                         0.017     0.017   0.0% |\n",
      "LCAO initialization:                 1.056     0.158   0.0% |\n",
      " LCAO eigensolver:                   0.318     0.001   0.0% |\n",
      "  Calculate projections:             0.038     0.038   0.0% |\n",
      "  DenseAtomicCorrection:             0.001     0.001   0.0% |\n",
      "  Distribute overlap matrix:         0.000     0.000   0.0% |\n",
      "  Orbital Layouts:                   0.226     0.226   0.0% |\n",
      "  Potential matrix:                  0.040     0.040   0.0% |\n",
      "  Sum over cells:                    0.012     0.012   0.0% |\n",
      " LCAO to grid:                       0.033     0.033   0.0% |\n",
      " Set positions (LCAO WFS):           0.548     0.000   0.0% |\n",
      "  Basic WFS set positions:           0.001     0.001   0.0% |\n",
      "  Basis functions set positions:     0.000     0.000   0.0% |\n",
      "  TCI: Calculate S, T, P:            0.547     0.547   0.1% |\n",
      "PWDescriptor:                        0.003     0.003   0.0% |\n",
      "SCF-cycle:                          25.649     0.146   0.0% |\n",
      " Davidson:                           5.748     1.578   0.2% |\n",
      "  calc. matrices:                    3.853     3.853   0.6% |\n",
      "  diagonalize:                       0.176     0.176   0.0% |\n",
      "  rotate_psi:                        0.140     0.140   0.0% |\n",
      " Density:                            2.613     0.002   0.0% |\n",
      "  Atomic density matrices:           0.082     0.082   0.0% |\n",
      "  Mix:                               0.545     0.545   0.1% |\n",
      "  Multipole moments:                 0.015     0.015   0.0% |\n",
      "  Pseudo density:                    1.969     1.892   0.3% |\n",
      "   Symmetrize density:               0.077     0.077   0.0% |\n",
      " Hamiltonian:                       13.574     0.048   0.0% |\n",
      "  Atomic:                           12.127     0.070   0.0% |\n",
      "   XC Correction:                   12.057    12.057   1.8% ||\n",
      "  Calculate atomic Hamiltonians:     0.355     0.355   0.1% |\n",
      "  Communicate:                       0.001     0.001   0.0% |\n",
      "  Poisson:                           0.010     0.010   0.0% |\n",
      "  XC 3D grid:                        1.033     1.033   0.2% |\n",
      " Orthonormalize:                     0.010     0.000   0.0% |\n",
      "  Band Layouts:                      0.000     0.000   0.0% |\n",
      "   Inverse Cholesky:                 0.000     0.000   0.0% |\n",
      "  calc_s_matrix:                     0.001     0.001   0.0% |\n",
      "  projections:                       0.007     0.007   0.0% |\n",
      "  rotate_psi:                        0.001     0.001   0.0% |\n",
      " Subspace diag:                      3.557     0.022   0.0% |\n",
      "  Band Layouts:                      0.042     0.005   0.0% |\n",
      "   Diagonalize:                      0.032     0.032   0.0% |\n",
      "   Distribute results:               0.004     0.004   0.0% |\n",
      "  calc_h_matrix:                     3.372     3.372   0.5% |\n",
      "  rotate_psi:                        0.121     0.121   0.0% |\n",
      "Set symmetry:                        0.020     0.020   0.0% |\n",
      "Other:                             629.604   629.604  95.9% |-------------------------------------|\n",
      "-----------------------------------------------------------\n",
      "Total:                                       656.594 100.0%\n",
      "\n",
      "Memory usage: 407.49 MiB\n",
      "Date: Wed Mar 28 23:12:03 2018\n",
      "System changes: positions, numbers, cell, pbc, initial_charges, initial_magmoms \n",
      "\n",
      "Initialize ...\n",
      "\n",
      "Mo-setup:\n",
      "  name: Molybdenum\n",
      "  id: 777abf82e11571d8662b25ce786408fd\n",
      "  Z: 42\n",
      "  valence: 6\n",
      "  core: 36\n",
      "  charge: 0.0\n",
      "  file: /Users/Yaroslav/gpaw-setups-0.9.20000/Mo.6.PBE.gz\n",
      "  cutoffs: 1.32(comp), 2.62(filt), 3.48(core), lmax=2\n",
      "  valence states:\n",
      "                energy  radius\n",
      "    5s(1.00)    -4.084   1.482\n",
      "    5p(0.00)    -1.044   1.482\n",
      "    4d(5.00)    -3.754   1.323\n",
      "    *s          23.128   1.482\n",
      "    *p          26.167   1.482\n",
      "    *d          23.458   1.323\n",
      "\n",
      "  Using partial waves for Mo as LCAO basis\n",
      "\n",
      "S-setup:\n",
      "  name: Sulfur\n",
      "  id: ca434db9faa07220b7a1d8cb6886b7a9\n",
      "  Z: 16\n",
      "  valence: 6\n",
      "  core: 10\n",
      "  charge: 0.0\n",
      "  file: /Users/Yaroslav/gpaw-setups-0.9.20000/S.PBE.gz\n",
      "  cutoffs: 0.76(comp), 1.77(filt), 1.66(core), lmax=2\n",
      "  valence states:\n",
      "                energy  radius\n",
      "    3s(2.00)   -17.254   0.974\n",
      "    3p(4.00)    -7.008   0.979\n",
      "    *s           9.957   0.974\n",
      "    *p          20.203   0.979\n",
      "    *d           0.000   0.900\n",
      "\n",
      "  Using partial waves for S as LCAO basis\n",
      "\n",
      "Reference energy: -131849.312437\n",
      "\n",
      "Spin-paired calculation\n",
      "\n",
      "Occupation numbers:\n",
      "  Fermi-Dirac: width=0.0100 eV\n",
      "\n",
      "Convergence criteria:\n",
      "  Maximum total energy change: 0.0005 eV / electron\n",
      "  Maximum integral of absolute density change: 0.0001 electrons\n",
      "  Maximum integral of absolute eigenstate change: 4e-08 eV^2\n",
      "  Maximum number of iterations: 333\n",
      "\n",
      "Symmetries present (total): 6\n",
      "\n",
      "  ( 1  1  0)  ( 1  0  0)  ( 0  1  0)  ( 0 -1  0)  (-1  0  0)  (-1 -1  0)\n",
      "  ( 0 -1  0)  ( 0  1  0)  (-1 -1  0)  (-1  0  0)  ( 1  1  0)  ( 1  0  0)\n",
      "  ( 0  0  1)  ( 0  0  1)  ( 0  0  1)  ( 0  0  1)  ( 0  0  1)  ( 0  0  1)\n",
      "\n",
      "4 k-points: 2 x 2 x 1 Monkhorst-Pack grid + [1/4,1/4,0.000000]\n",
      "2 k-points in the irreducible part of the Brillouin zone\n",
      "       k-points in crystal coordinates                weights\n",
      "   0:     0.00000000    0.00000000    0.00000000          1/4\n",
      "   1:     0.50000000    0.50000000    0.00000000          3/4\n",
      "\n",
      "Wave functions: Plane wave expansion\n",
      "  Cutoff energy: 200.000 eV\n",
      "  Number of coefficients (min, max): 578, 587\n",
      "  Using Numpy's FFT\n",
      "  Eigensolver: None  MatrixOperator buffer_size: default value or \n",
      "                              see value of nblock in input file\n",
      "Diagonalizer layout: Serial LAPACKOrthonormalizer layout: Serial LAPACK \n",
      "\n",
      "Davidson(niter=1, smin=None, normalize=True) \n",
      "\n",
      "Densities:\n",
      "  Coarse grid: 9*9*35 grid\n",
      "  Fine grid: 18*18*70 grid\n",
      "  Total Charge: 0.000000 \n",
      "\n",
      "Density mixing:\n",
      "  Method: separate\n",
      "  Backend: pulay\n",
      "  Linear mixing parameter: 0.05\n",
      "  Mixing with 5 old densities\n",
      "  Damping of long wave oscillations: 50 \n",
      "\n",
      "Hamiltonian:\n",
      "  XC and Coulomb potentials evaluated on a 18*18*70 grid\n",
      "  Using the PBE Exchange-Correlation functional\n",
      " \n",
      "\n",
      "Memory estimate:\n",
      "  Process memory now: 407.49 MiB\n",
      "  Calculator: 2.67 MiB\n",
      "    Density: 1.27 MiB\n",
      "      Arrays: 0.56 MiB\n",
      "      Localized functions: 0.49 MiB\n",
      "      Mixer: 0.22 MiB\n",
      "    Hamiltonian: 0.38 MiB\n",
      "      Arrays: 0.37 MiB\n",
      "      XC: 0.00 MiB\n",
      "      Poisson: 0.00 MiB\n",
      "      vbar: 0.01 MiB\n",
      "    Wavefunctions: 1.02 MiB\n",
      "      Arrays psit_nG: 0.30 MiB\n",
      "      Eigensolver: 0.24 MiB\n",
      "      Projections: 0.02 MiB\n",
      "      Projectors: 0.18 MiB\n",
      "      Overlap op: 0.16 MiB\n",
      "      PW-descriptor: 0.12 MiB\n",
      "\n",
      "Total number of cores used: 1\n",
      "\n",
      "Number of atoms: 3\n",
      "Number of atomic orbitals: 17\n",
      "Number of bands in calculation: 17\n",
      "Bands to converge: occupied states only\n",
      "Number of valence electrons: 18\n",
      "\n",
      "... initialized\n",
      "\n",
      "Initializing position-dependent things.\n",
      "\n",
      "Density initialized from atomic densities\n",
      "Creating initial wave functions:\n",
      "  17 bands from LCAO basis set\n",
      "\n",
      "                     \n",
      "                     \n",
      "                     \n",
      "                     \n",
      "            S        \n",
      "                     \n",
      "       Mo            \n",
      "                     \n",
      "            S        \n",
      "                     \n",
      "                     \n",
      "                     \n",
      "                     \n",
      "\n",
      "Positions:\n",
      "   0 Mo     0.000000    0.000000    5.063500\n",
      "   1 S      1.592000    0.919142    6.627000\n",
      "   2 S      1.592000    0.919142    3.500000\n",
      "\n",
      "Unit cell:\n",
      "           periodic     x           y           z      points  spacing\n",
      "  1. axis:    yes    3.184000    0.000000    0.000000     9     0.3064\n",
      "  2. axis:    yes   -1.592000    2.757425    0.000000     9     0.3064\n",
      "  3. axis:    no     0.000000   -0.000000   10.127000    35     0.2893\n",
      "\n",
      "  Lengths:   3.184000   3.184000  10.127000\n",
      "  Angles:   90.000000  90.000000 120.000000\n",
      "\n",
      "Effective grid spacing dv^(1/3) = 0.3154\n",
      "\n",
      "                     log10-error:    total        iterations:\n",
      "           time      wfs    density  energy       fermi  poisson\n",
      "iter:   1  23:12:05  +2.19   +inf   -21.790796    0             \n",
      "iter:   2  23:12:05  +0.19   +inf   -22.134139    0             \n",
      "iter:   3  23:12:05  -0.53   +inf   -22.197674    0             \n",
      "iter:   4  23:12:06  -0.77  -0.94   -21.595879    0             \n",
      "iter:   5  23:12:06  -0.49  -1.01   -20.731512    1             \n",
      "iter:   6  23:12:07  -1.17  -1.14   -20.621954    0             \n",
      "iter:   7  23:12:07  -0.38  -1.30   -20.532241    0             \n",
      "iter:   8  23:12:07  -1.18  -1.58   -20.475115    0             \n",
      "iter:   9  23:12:08  -1.91  -1.79   -20.464800    0             \n",
      "iter:  10  23:12:08  -2.31  -2.33   -20.463907    0             \n",
      "iter:  11  23:12:08  -2.87  -2.46   -20.464244    0             \n",
      "iter:  12  23:12:09  -2.96  -2.45   -20.464696    0             \n",
      "iter:  13  23:12:09  -3.24  -2.46   -20.464951    0             \n",
      "iter:  14  23:12:09  -3.13  -2.65   -20.465126    0             \n",
      "iter:  15  23:12:10  -3.39  -2.96   -20.465330    0             \n",
      "iter:  16  23:12:10  -3.43  -3.07   -20.465513    0             \n",
      "iter:  17  23:12:11  -3.60  -3.05   -20.465673    0             \n",
      "iter:  18  23:12:11  -3.66  -3.03   -20.465739    0             \n",
      "iter:  19  23:12:11  -3.78  -2.95   -20.465812    0             \n",
      "iter:  20  23:12:12  -3.86  -3.08   -20.465858    0             \n",
      "iter:  21  23:12:12  -4.03  -3.25   -20.465932    0             \n",
      "iter:  22  23:12:12  -4.16  -3.21   -20.465974    0             \n",
      "iter:  23  23:12:13  -4.24  -3.19   -20.465998    0             \n",
      "iter:  24  23:12:13  -4.31  -3.21   -20.466017    0             \n",
      "iter:  25  23:12:14  -4.26  -3.18   -20.466039    0             \n",
      "iter:  26  23:12:14  -4.50  -3.12   -20.466056    0             \n",
      "iter:  27  23:12:15  -4.57  -3.17   -20.466064    0             \n",
      "iter:  28  23:12:15  -4.62  -3.20   -20.466039    0             \n",
      "iter:  29  23:12:15  -4.75  -3.08   -20.466100    0             \n",
      "iter:  30  23:12:16  -4.39  -3.17   -20.466113    0             \n",
      "iter:  31  23:12:16  -5.03  -3.19   -20.466118    0             \n",
      "iter:  32  23:12:16  -4.86  -3.19   -20.466121    0             \n",
      "iter:  33  23:12:17  -4.84  -3.22   -20.466098    0             \n",
      "iter:  34  23:12:17  -5.09  -3.57   -20.466096    0             \n",
      "iter:  35  23:12:18  -5.36  -3.68   -20.466093    0             \n",
      "iter:  36  23:12:18  -5.46  -3.93   -20.466094    0             \n",
      "iter:  37  23:12:18  -5.73  -3.99   -20.466094    0             \n",
      "iter:  38  23:12:19  -5.55  -4.04   -20.466091    0             \n",
      "iter:  39  23:12:19  -5.92  -4.25   -20.466092    0             \n",
      "iter:  40  23:12:20  -5.73  -4.51   -20.466093    0             \n",
      "iter:  41  23:12:20  -6.04  -4.54   -20.466094    0             \n",
      "iter:  42  23:12:20  -5.92  -4.56   -20.466093    0             \n",
      "iter:  43  23:12:21  -6.15  -4.42   -20.466094    0             \n",
      "iter:  44  23:12:21  -6.19  -4.87   -20.466094    0             \n",
      "iter:  45  23:12:21  -6.36  -4.91   -20.466094    0             \n",
      "iter:  46  23:12:22  -6.35  -5.00   -20.466094    0             \n",
      "iter:  47  23:12:22  -6.54  -5.01   -20.466095    0             \n",
      "iter:  48  23:12:22  -6.49  -5.01   -20.466095    0             \n",
      "iter:  49  23:12:23  -6.68  -4.93   -20.466095    0             \n",
      "iter:  50  23:12:23  -6.68  -4.91   -20.466095    0             \n",
      "iter:  51  23:12:23  -6.95  -4.88   -20.466095    0             \n",
      "iter:  52  23:12:24  -6.85  -4.81   -20.466095    0             \n",
      "iter:  53  23:12:24  -7.00  -4.92   -20.466095    0             \n",
      "iter:  54  23:12:24  -6.82  -5.15   -20.466095    0             \n",
      "iter:  55  23:12:25  -7.29  -5.12   -20.466095    0             \n",
      "iter:  56  23:12:25  -7.14  -5.45   -20.466096    0             \n",
      "iter:  57  23:12:25  -7.40  -5.69   -20.466096    0             \n",
      "iter:  58  23:12:26  -7.37  -5.64   -20.466096    0             \n",
      "iter:  59  23:12:26  -7.60  -5.67   -20.466096    0             \n",
      "\n",
      "Converged after 59 iterations.\n",
      "\n",
      "Dipole moment: (3.363357, -1.941835, -0.000000) |e|*Ang\n",
      "\n",
      "Energy contributions relative to reference atoms: (reference = -131849.312437)\n",
      "\n",
      "Kinetic:         +1.851286\n",
      "Potential:       -8.494177\n",
      "External:        +0.000000\n",
      "XC:             -15.267697\n",
      "Entropy (-ST):   -0.000000\n",
      "Local:           +1.444494\n",
      "--------------------------\n",
      "Free energy:    -20.466096\n",
      "Extrapolated:   -20.466096\n",
      "\n",
      "Fermi level: 3.20945\n",
      "\n",
      "Showing all kpts\n",
      " Kpt  Band  Eigenvalues  Occupancy\n",
      "  0     7      0.29942    0.50000\n",
      "  0     8      1.82215    0.50000\n",
      "  0     9      4.55909    0.00000\n",
      "  0    10      4.56286    0.00000\n",
      "\n",
      "  1     7      0.79670    1.50000\n",
      "  1     8      1.09636    1.50000\n",
      "  1     9      3.80791    0.00000\n",
      "  1    10      4.46923    0.00000\n",
      "\n",
      "\n",
      "Writing to MoS2_gs.gpw (mode='all')\n",
      "\n"
     ]
    }
   ],
   "source": [
    "from ase.build import mx2\n",
    "from gpaw import GPAW, PW, FermiDirac\n",
    "\n",
    "structure = mx2(formula='MoS2', kind='2H', a=3.184, thickness=3.127,size=(1, 1, 1), vacuum=3.5)\n",
    "structure.pbc = (1, 1, 0)\n",
    "\n",
    "calc = GPAW(mode=PW(200),xc='PBE',setups={'Mo': '6'}, parallel={'kpt': 1},kpts={'size': (2,2,1), 'gamma': True},occupations=FermiDirac(0.01))\n",
    "\n",
    "structure.set_calculator(calc)\n",
    "structure.get_potential_energy()\n",
    "calc.write('MoS2_gs.gpw', 'all')\n"
   ]
  },
  {
   "cell_type": "code",
   "execution_count": 25,
   "metadata": {
    "collapsed": false
   },
   "outputs": [
    {
     "name": "stdout",
     "output_type": "stream",
     "text": [
      "Diagonalizing full Hamiltonian (578 lowest bands)\n",
      "Matrix size (min, max): 578, 587\n",
      "Approximate memory used per core to store H_GG, S_GG: 15.773 MB\n",
      "Notice: Up to twice the amount of memory might be allocated\n",
      "during diagonalization algorithm.\n",
      "The least memory is required when the parallelization is purely\n",
      "over states (bands) and not k-points, set GPAW(..., parallel={'kpt': 1}, ...).\n",
      "2.50947189331s |----------------------------------------| Time: 2.396s\n",
      "Writing to gs_MoS2.gpw (mode='all')\n",
      "\n"
     ]
    }
   ],
   "source": [
    "calc.diagonalize_full_hamiltonian()\n",
    "calc.write('gs_MoS2.gpw', mode='all')"
   ]
  },
  {
   "cell_type": "code",
   "execution_count": 26,
   "metadata": {
    "collapsed": false
   },
   "outputs": [],
   "source": [
    "from gpaw.response.g0w0 import G0W0\n",
    "gw = G0W0(calc='gs_MoS2.gpw',\n",
    "              bands=(8, 11),\n",
    "              ecut=50,\n",
    "              truncation='2D',\n",
    "              nblocksmax=True,\n",
    "              anisotropy_correction=True,\n",
    "              filename='MoS2_g0w0',\n",
    "              savepckl=True)\n",
    "result=gw.calculate()"
   ]
  },
  {
   "cell_type": "code",
   "execution_count": 27,
   "metadata": {
    "collapsed": true
   },
   "outputs": [],
   "source": [
    "from gpaw.response import bse \n",
    "\n",
    "ecut = 50\n",
    "eshift = 0.8\n",
    "\n",
    "bse = bse.BSE('gs_MoS2.gpw',\n",
    "          ecut=ecut,\n",
    "          valence_bands=[8],\n",
    "          conduction_bands=[9,10],\n",
    "          truncation='2D',\n",
    "          nbands=50,\n",
    "          eshift=eshift,\n",
    "          mode='BSE',\n",
    "          integrate_gamma=1,\n",
    "          txt='bse_MoS2_trun.txt')"
   ]
  },
  {
   "cell_type": "code",
   "execution_count": 28,
   "metadata": {
    "collapsed": false
   },
   "outputs": [],
   "source": [
    "import numpy as np\n",
    "result=bse.get_polarizability(filename='pol_bse_MoS2_trun.csv',\n",
    "                       eta=0.01,\n",
    "                       pbc=[True, True, False],\n",
    "                       write_eig='bse_MoS2_eig_trun.dat',\n",
    "                       w_w=np.linspace(0, 5, 51))"
   ]
  },
  {
   "cell_type": "code",
   "execution_count": 29,
   "metadata": {
    "collapsed": false
   },
   "outputs": [],
   "source": [
    "nK=bse.kd.nbzkpts\n",
    "nv=1;nc=2\n",
    "H_bse=bse.H_sS.reshape((nK,nv,nc,nK,nv,nc))"
   ]
  },
  {
   "cell_type": "code",
   "execution_count": 30,
   "metadata": {
    "collapsed": true
   },
   "outputs": [],
   "source": [
    "from gpaw.kpt_descriptor import KPointDescriptor\n",
    "from gpaw.wavefunctions.pw import PWDescriptor\n",
    "from gpaw.response.kernels import get_coulomb_kernel\n",
    "from gpaw.response.kernels import get_integrated_kernel\n",
    "from gpaw.response.wstc import WignerSeitzTruncatedCoulomb\n",
    "from gpaw.response.pair import PairDensity\n"
   ]
  },
  {
   "cell_type": "code",
   "execution_count": 31,
   "metadata": {
    "collapsed": false
   },
   "outputs": [
    {
     "name": "stdout",
     "output_type": "stream",
     "text": [
      "Shifting Fermi-level by 0.00 eV\n",
      "Number of completely filled bands: 9\n",
      "Number of partially filled bands: 9\n",
      "Total number of bands: 578\n",
      "Number of blocks: 1\n"
     ]
    }
   ],
   "source": [
    "bse.q_c=[0.0, 0.0, 0.0]\n",
    "bse.wstc=None\n",
    "qd0 = KPointDescriptor([bse.q_c])\n",
    "pd0 = PWDescriptor(bse.ecut, bse.calc.wfs.gd, complex, qd0)\n",
    "ikq_k = bse.kd.find_k_plus_q(bse.q_c)\n",
    "v_G = get_coulomb_kernel(pd0, bse.kd.N_c, truncation=bse.truncation, wstc=None)\n",
    "bse.pair = PairDensity(bse.calc, bse.ecut)\n",
    "bse.Q_qaGii = [];bse.W_qGG = [];bse.pd_q = []\n",
    "bse.get_screened_potential(ac=1.0)"
   ]
  },
  {
   "cell_type": "code",
   "execution_count": 32,
   "metadata": {
    "collapsed": false
   },
   "outputs": [],
   "source": [
    "kpoints=bse.kd.bzk_kc\n",
    "conduction_bands=[9,10]"
   ]
  },
  {
   "cell_type": "code",
   "execution_count": 33,
   "metadata": {
    "collapsed": false
   },
   "outputs": [
    {
     "name": "stderr",
     "output_type": "stream",
     "text": [
      "100% |########################################################################|\n"
     ]
    }
   ],
   "source": [
    "from itertools import product\n",
    "import progressbar\n",
    "H_trion=np.zeros((nK,nK,nv,nc,nc,\n",
    "                  nK,nK,nv,nc,nc),dtype=np.complex)\n",
    "bar=progressbar.ProgressBar()\n",
    "for k in range(nK):\n",
    "    for c in range(nc):\n",
    "        H_trion[k,:,:,c,:,k,:,:,c,:]+=H_bse\n",
    "        H_trion[:,k,:,:,c,:,k,:,:,c]+=H_bse\n",
    "H_trion_free=np.copy(H_trion)\n",
    "first_kpoints=[(k1,k1_) for k1,k1_ in product(range(nK),range(nK))]\n",
    "\n",
    "for i in bar(range(len(first_kpoints))):\n",
    "    k1,k1_=first_kpoints[i]\n",
    "    for k2,k2_ in product(range(nK),range(nK)):\n",
    "        kp1=kpoints[k1]-kpoints[k1_];\n",
    "        kp2=kpoints[k2]-kpoints[k2_];\n",
    "        if (kp1==kp2).all():\n",
    "            for c1,c2 in product(range(nc),range(nc)):\n",
    "                kpt1_1 = bse.pair.get_k_point(0, k1, conduction_bands[c1], conduction_bands[c1]+1)\n",
    "                kpt2_1 = bse.pair.get_k_point(0, k1_, conduction_bands[c2], conduction_bands[c2]+1)\n",
    "\n",
    "                kpt1_2 = bse.pair.get_k_point(0, k2, conduction_bands[c1], conduction_bands[c1]+1)\n",
    "                kpt2_2 = bse.pair.get_k_point(0, k2_, conduction_bands[c2], conduction_bands[c2]+1)\n",
    "\n",
    "                rho1, iq1 = bse.get_density_matrix(kpt1_1,kpt2_1)\n",
    "                rho2, iq2 = bse.get_density_matrix(kpt1_2,kpt2_2)\n",
    "\n",
    "                rho3, iq3 = bse.get_density_matrix(kpt2_1,kpt1_1)\n",
    "                rho4, iq4 = bse.get_density_matrix(kpt2_2,kpt1_2)\n",
    "                W1 = np.swapaxes(np.dot(np.dot(rho1.conj(),bse.W_qGG[iq1]),np.swapaxes(rho2, 1, 2)), 1, 2)\n",
    "                W2 = np.swapaxes(np.dot(np.dot(rho3.conj(),bse.W_qGG[iq3]),np.swapaxes(rho4, 1, 2)), 1, 2)\n",
    "\n",
    "                H_trion[k1,k1_,:,c1,c2,k2,k2_,:,c1,c2]+=(W1-W2).reshape(1)[0]"
   ]
  },
  {
   "cell_type": "code",
   "execution_count": 52,
   "metadata": {
    "collapsed": false
   },
   "outputs": [
    {
     "data": {
      "text/plain": [
       "<matplotlib.image.AxesImage at 0x116e056d0>"
      ]
     },
     "execution_count": 52,
     "metadata": {},
     "output_type": "execute_result"
    },
    {
     "data": {
      "image/png": "[encoded data removed]",
      "text/plain": [
       "<matplotlib.figure.Figure at 0x115facf90>"
      ]
     },
     "metadata": {},
     "output_type": "display_data"
    }
   ],
   "source": [
    "plt.imshow(bse.H_sS.real)"
   ]
  },
  {
   "cell_type": "code",
   "execution_count": 57,
   "metadata": {
    "collapsed": false
   },
   "outputs": [
    {
     "data": {
      "text/plain": [
       "<matplotlib.image.AxesImage at 0x116edb3d0>"
      ]
     },
     "execution_count": 57,
     "metadata": {},
     "output_type": "execute_result"
    },
    {
     "data": {
      "image/png": "[encoded data removed]",
      "text/plain": [
       "<matplotlib.figure.Figure at 0x115c509d0>"
      ]
     },
     "metadata": {},
     "output_type": "display_data"
    }
   ],
   "source": [
    "plt.imshow((H_trion-H_trion_free).imag)"
   ]
  },
  {
   "cell_type": "code",
   "execution_count": 58,
   "metadata": {
    "collapsed": false
   },
   "outputs": [
    {
     "data": {
      "text/plain": [
       "<matplotlib.image.AxesImage at 0x11372a7d0>"
      ]
     },
     "execution_count": 58,
     "metadata": {},
     "output_type": "execute_result"
    },
    {
     "data": {
      "image/png": "[encoded data removed]",
      "text/plain": [
       "<matplotlib.figure.Figure at 0x116f80810>"
      ]
     },
     "metadata": {},
     "output_type": "display_data"
    }
   ],
   "source": [
    "plt.imshow((H_trion-H_trion_free).real)"
   ]
  },
  {
   "cell_type": "code",
   "execution_count": 54,
   "metadata": {
    "collapsed": false
   },
   "outputs": [],
   "source": [
    "nS=nK*nK*nv*nc*nc\n",
    "H_trion=H_trion.reshape((nS,nS))\n",
    "H_trion_free=H_trion_free.reshape((nS,nS))\n",
    "E_trion,D_trion=np.linalg.eigh(H_trion)\n",
    "E_trion_free,D_trion_free=np.linalg.eigh(H_trion_free)\n",
    "E_bse,D_bse=np.linalg.eigh(bse.H_sS)"
   ]
  },
  {
   "cell_type": "code",
   "execution_count": 51,
   "metadata": {
    "collapsed": false
   },
   "outputs": [
    {
     "data": {
      "image/png": "[encoded data removed]",
      "text/plain": [
       "<matplotlib.figure.Figure at 0x1160bf210>"
      ]
     },
     "metadata": {},
     "output_type": "display_data"
    }
   ],
   "source": [
    "plt.hist(E_trion,normed=True,bins=100)\n",
    "plt.hist(E_bse,normed=True,bins=100)\n",
    "plt.grid()"
   ]
  }
 ],
 "metadata": {
  "kernelspec": {
   "display_name": "Python 2",
   "language": "python",
   "name": "python2"
  },
  "language_info": {
   "codemirror_mode": {
    "name": "ipython",
    "version": 2
   },
   "file_extension": ".py",
   "mimetype": "text/x-python",
   "name": "python",
   "nbconvert_exporter": "python",
   "pygments_lexer": "ipython2",
   "version": "2.7.14"
  }
 },
 "nbformat": 4,
 "nbformat_minor": 2
}
