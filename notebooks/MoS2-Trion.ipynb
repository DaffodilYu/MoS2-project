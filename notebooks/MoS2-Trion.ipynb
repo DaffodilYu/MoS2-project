{
 "cells": [
  {
   "cell_type": "code",
   "execution_count": 60,
   "metadata": {
    "collapsed": false
   },
   "outputs": [
    {
     "name": "stdout",
     "output_type": "stream",
     "text": [
      "\n",
      "  ___ ___ ___ _ _ _  \n",
      " |   |   |_  | | | | \n",
      " | | | | | . | | | | \n",
      " |__ |  _|___|_____|  1.3.0\n",
      " |___|_|             \n",
      "\n",
      "User:   Yaroslav@MacBook-Pro-Aroslav-2.local\n",
      "Date:   Sat Mar 24 21:09:54 2018\n",
      "Arch:   x86_64\n",
      "Pid:    26858\n",
      "Python: 2.7.14\n",
      "gpaw:   /Users/Yaroslav/Library/Python/2.7/lib/python/site-packages/gpaw\n",
      "_gpaw:  /Users/Yaroslav/Library/Python/2.7/lib/python/site-packages/_gpaw.so\n",
      "ase:    /usr/local/lib/python2.7/site-packages/ase (version 3.15.0)\n",
      "numpy:  /Users/Yaroslav/Library/Python/2.7/lib/python/site-packages/numpy (version 1.13.3)\n",
      "scipy:  /usr/local/lib/python2.7/site-packages/scipy (version 0.19.1)\n",
      "units:  Angstrom and eV\n",
      "cores:  1\n",
      "\n",
      "Input parameters:\n",
      "  kpts: {gamma: True,\n",
      "         size: (4, 4, 1)}\n",
      "  mode: {ecut: 400.0,\n",
      "         name: pw}\n",
      "  occupations: {name: fermi-dirac,\n",
      "                width: 0.01}\n",
      "  setups: {Mo: 6}\n",
      "  xc: PBE\n",
      "\n",
      "Timing:                              incl.     excl.\n",
      "-----------------------------------------------------------\n",
      "Full diag:                          38.170     0.060   0.0% |\n",
      " Build H and S:                      6.849     6.849   4.5% |-|\n",
      " Diagonalize:                       31.199    31.199  20.4% |-------|\n",
      " Projections:                        0.063     0.063   0.0% |\n",
      " Redistribute:                       0.000     0.000   0.0% |\n",
      "Hamiltonian:                         0.558     0.002   0.0% |\n",
      " Atomic:                             0.254     0.001   0.0% |\n",
      "  XC Correction:                     0.253     0.253   0.2% |\n",
      " Calculate atomic Hamiltonians:      0.025     0.025   0.0% |\n",
      " Communicate:                        0.000     0.000   0.0% |\n",
      " Initialize Hamiltonian:             0.000     0.000   0.0% |\n",
      " Poisson:                            0.000     0.000   0.0% |\n",
      " XC 3D grid:                         0.277     0.277   0.2% |\n",
      "LCAO initialization:                 0.849     0.209   0.1% |\n",
      " LCAO eigensolver:                   0.197     0.000   0.0% |\n",
      "  Calculate projections:             0.011     0.011   0.0% |\n",
      "  DenseAtomicCorrection:             0.001     0.001   0.0% |\n",
      "  Distribute overlap matrix:         0.000     0.000   0.0% |\n",
      "  Orbital Layouts:                   0.071     0.071   0.0% |\n",
      "  Potential matrix:                  0.106     0.106   0.1% |\n",
      "  Sum over cells:                    0.008     0.008   0.0% |\n",
      " LCAO to grid:                       0.049     0.049   0.0% |\n",
      " Set positions (LCAO WFS):           0.394     0.000   0.0% |\n",
      "  Basic WFS set positions:           0.001     0.001   0.0% |\n",
      "  Basis functions set positions:     0.000     0.000   0.0% |\n",
      "  TCI: Calculate S, T, P:            0.392     0.392   0.3% |\n",
      "PWDescriptor:                        0.003     0.003   0.0% |\n",
      "SCF-cycle:                          34.173     0.146   0.1% |\n",
      " Davidson:                           6.403     1.363   0.9% |\n",
      "  calc. matrices:                    4.828     4.828   3.2% ||\n",
      "  diagonalize:                       0.095     0.095   0.1% |\n",
      "  rotate_psi:                        0.118     0.118   0.1% |\n",
      " Density:                            4.635     0.002   0.0% |\n",
      "  Atomic density matrices:           0.072     0.072   0.0% |\n",
      "  Mix:                               1.829     1.829   1.2% |\n",
      "  Multipole moments:                 0.015     0.015   0.0% |\n",
      "  Pseudo density:                    2.717     2.421   1.6% ||\n",
      "   Symmetrize density:               0.296     0.296   0.2% |\n",
      " Hamiltonian:                       18.374     0.087   0.1% |\n",
      "  Atomic:                           13.356     0.079   0.1% |\n",
      "   XC Correction:                   13.278    13.278   8.7% |--|\n",
      "  Calculate atomic Hamiltonians:     1.401     1.401   0.9% |\n",
      "  Communicate:                       0.001     0.001   0.0% |\n",
      "  Poisson:                           0.027     0.027   0.0% |\n",
      "  XC 3D grid:                        3.503     3.503   2.3% ||\n",
      " Orthonormalize:                     0.017     0.000   0.0% |\n",
      "  Band Layouts:                      0.000     0.000   0.0% |\n",
      "   Inverse Cholesky:                 0.000     0.000   0.0% |\n",
      "  calc_s_matrix:                     0.001     0.001   0.0% |\n",
      "  projections:                       0.014     0.014   0.0% |\n",
      "  rotate_psi:                        0.002     0.002   0.0% |\n",
      " Subspace diag:                      4.598     0.013   0.0% |\n",
      "  Band Layouts:                      0.027     0.004   0.0% |\n",
      "   Diagonalize:                      0.021     0.021   0.0% |\n",
      "   Distribute results:               0.003     0.003   0.0% |\n",
      "  calc_h_matrix:                     4.441     4.441   2.9% ||\n",
      "  rotate_psi:                        0.116     0.116   0.1% |\n",
      "Set symmetry:                        0.001     0.001   0.0% |\n",
      "Other:                              78.866    78.866  51.7% |--------------------|\n",
      "-----------------------------------------------------------\n",
      "Total:                                       152.621 100.0%\n",
      "\n",
      "Memory usage: 953.50 MiB\n",
      "Date: Sat Mar 24 21:09:54 2018\n",
      "System changes: positions, numbers, cell, pbc, initial_charges, initial_magmoms \n",
      "\n",
      "Initialize ...\n",
      "\n",
      "Mo-setup:\n",
      "  name: Molybdenum\n",
      "  id: 777abf82e11571d8662b25ce786408fd\n",
      "  Z: 42\n",
      "  valence: 6\n",
      "  core: 36\n",
      "  charge: 0.0\n",
      "  file: /Users/Yaroslav/gpaw-setups-0.9.20000/Mo.6.PBE.gz\n",
      "  cutoffs: 1.32(comp), 2.62(filt), 3.48(core), lmax=2\n",
      "  valence states:\n",
      "                energy  radius\n",
      "    5s(1.00)    -4.084   1.482\n",
      "    5p(0.00)    -1.044   1.482\n",
      "    4d(5.00)    -3.754   1.323\n",
      "    *s          23.128   1.482\n",
      "    *p          26.167   1.482\n",
      "    *d          23.458   1.323\n",
      "\n",
      "  Using partial waves for Mo as LCAO basis\n",
      "\n",
      "S-setup:\n",
      "  name: Sulfur\n",
      "  id: ca434db9faa07220b7a1d8cb6886b7a9\n",
      "  Z: 16\n",
      "  valence: 6\n",
      "  core: 10\n",
      "  charge: 0.0\n",
      "  file: /Users/Yaroslav/gpaw-setups-0.9.20000/S.PBE.gz\n",
      "  cutoffs: 0.76(comp), 1.77(filt), 1.66(core), lmax=2\n",
      "  valence states:\n",
      "                energy  radius\n",
      "    3s(2.00)   -17.254   0.974\n",
      "    3p(4.00)    -7.008   0.979\n",
      "    *s           9.957   0.974\n",
      "    *p          20.203   0.979\n",
      "    *d           0.000   0.900\n",
      "\n",
      "  Using partial waves for S as LCAO basis\n",
      "\n",
      "Reference energy: -131849.312437\n",
      "\n",
      "Spin-paired calculation\n",
      "\n",
      "Occupation numbers:\n",
      "  Fermi-Dirac: width=0.0100 eV\n",
      "\n",
      "Convergence criteria:\n",
      "  Maximum total energy change: 0.0005 eV / electron\n",
      "  Maximum integral of absolute density change: 0.0001 electrons\n",
      "  Maximum integral of absolute eigenstate change: 4e-08 eV^2\n",
      "  Maximum number of iterations: 333\n",
      "\n",
      "Symmetries present (total): 6\n",
      "\n",
      "  ( 1  1  0)  ( 1  0  0)  ( 0  1  0)  ( 0 -1  0)  (-1  0  0)  (-1 -1  0)\n",
      "  ( 0 -1  0)  ( 0  1  0)  (-1 -1  0)  (-1  0  0)  ( 1  1  0)  ( 1  0  0)\n",
      "  ( 0  0  1)  ( 0  0  1)  ( 0  0  1)  ( 0  0  1)  ( 0  0  1)  ( 0  0  1)\n",
      "\n",
      "16 k-points: 4 x 4 x 1 Monkhorst-Pack grid + [1/8,1/8,0.000000]\n",
      "4 k-points in the irreducible part of the Brillouin zone\n",
      "       k-points in crystal coordinates                weights\n",
      "   0:     0.00000000    0.00000000    0.00000000          1/16\n",
      "   1:     0.25000000    0.00000000    0.00000000          6/16\n",
      "   2:     0.50000000    0.25000000    0.00000000          6/16\n",
      "   3:     0.50000000    0.50000000    0.00000000          3/16\n",
      "\n",
      "Wave functions: Plane wave expansion\n",
      "  Cutoff energy: 400.000 eV\n",
      "  Number of coefficients (min, max): 1605, 1625\n",
      "  Using Numpy's FFT\n",
      "  Eigensolver: None  MatrixOperator buffer_size: default value or \n",
      "                              see value of nblock in input file\n",
      "Diagonalizer layout: Serial LAPACKOrthonormalizer layout: Serial LAPACK \n",
      "\n",
      "Davidson(niter=1, smin=None, normalize=True) \n",
      "\n",
      "Densities:\n",
      "  Coarse grid: 14*14*48 grid\n",
      "  Fine grid: 28*28*96 grid\n",
      "  Total Charge: 0.000000 \n",
      "\n",
      "Density mixing:\n",
      "  Method: separate\n",
      "  Backend: pulay\n",
      "  Linear mixing parameter: 0.05\n",
      "  Mixing with 5 old densities\n",
      "  Damping of long wave oscillations: 50 \n",
      "\n",
      "Hamiltonian:\n",
      "  XC and Coulomb potentials evaluated on a 28*28*96 grid\n",
      "  Using the PBE Exchange-Correlation functional\n",
      " \n",
      "\n",
      "Memory estimate:\n",
      "  Process memory now: 953.50 MiB\n",
      "  Calculator: 9.86 MiB\n",
      "    Density: 4.43 MiB\n",
      "      Arrays: 1.87 MiB\n",
      "      Localized functions: 1.85 MiB\n",
      "      Mixer: 0.72 MiB\n",
      "    Hamiltonian: 1.26 MiB\n",
      "      Arrays: 1.22 MiB\n",
      "      XC: 0.00 MiB\n",
      "      Poisson: 0.00 MiB\n",
      "      vbar: 0.04 MiB\n",
      "    Wavefunctions: 4.17 MiB\n",
      "      Arrays psit_nG: 1.69 MiB\n",
      "      Eigensolver: 0.59 MiB\n",
      "      Projections: 0.05 MiB\n",
      "      Projectors: 0.99 MiB\n",
      "      Overlap op: 0.43 MiB\n",
      "      PW-descriptor: 0.43 MiB\n",
      "\n",
      "Total number of cores used: 1\n",
      "\n",
      "Number of atoms: 3\n",
      "Number of atomic orbitals: 17\n",
      "Number of bands in calculation: 17\n",
      "Bands to converge: occupied states only\n",
      "Number of valence electrons: 18\n",
      "\n",
      "... initialized\n",
      "\n",
      "Initializing position-dependent things.\n",
      "\n",
      "Density initialized from atomic densities\n",
      "Creating initial wave functions:\n",
      "  17 bands from LCAO basis set\n",
      "\n",
      "                     \n",
      "                     \n",
      "                     \n",
      "                     \n",
      "            S        \n",
      "                     \n",
      "       Mo            \n",
      "                     \n",
      "            S        \n",
      "                     \n",
      "                     \n",
      "                     \n",
      "                     \n",
      "\n",
      "Positions:\n",
      "   0 Mo     0.000000    0.000000    5.063500\n",
      "   1 S      1.592000    0.919142    6.627000\n",
      "   2 S      1.592000    0.919142    3.500000\n",
      "\n",
      "Unit cell:\n",
      "           periodic     x           y           z      points  spacing\n",
      "  1. axis:    yes    3.184000    0.000000    0.000000    14     0.1970\n",
      "  2. axis:    yes   -1.592000    2.757425    0.000000    14     0.1970\n",
      "  3. axis:    no     0.000000   -0.000000   10.127000    48     0.2110\n",
      "\n",
      "  Lengths:   3.184000   3.184000  10.127000\n",
      "  Angles:   90.000000  90.000000 120.000000\n",
      "\n",
      "Effective grid spacing dv^(1/3) = 0.2114\n",
      "\n",
      "                     log10-error:    total        iterations:\n",
      "           time      wfs    density  energy       fermi  poisson\n",
      "iter:   1  21:09:57  +2.16   +inf   -22.737743    0             \n",
      "iter:   2  21:09:57  +0.23   +inf   -23.078596    0             \n",
      "iter:   3  21:09:58  -0.45   +inf   -23.153052    0             \n",
      "iter:   4  21:09:58  -0.64  -0.96   -22.617237    0             \n",
      "iter:   5  21:09:59  -0.48  -1.03   -21.777475    0             \n",
      "iter:   6  21:10:00  -1.19  -1.19   -21.672709    0             \n",
      "iter:   7  21:10:01  -0.45  -1.33   -21.552723    0             \n",
      "iter:   8  21:10:01  -1.21  -1.62   -21.523714    0             \n",
      "iter:   9  21:10:02  -1.84  -1.75   -21.520312    0             \n",
      "iter:  10  21:10:03  -2.33  -2.38   -21.519145    0             \n",
      "iter:  11  21:10:03  -2.84  -2.51   -21.519484    0             \n",
      "iter:  12  21:10:04  -3.00  -2.50   -21.519769    0             \n",
      "iter:  13  21:10:05  -3.20  -2.53   -21.519787    0             \n",
      "iter:  14  21:10:06  -3.39  -2.74   -21.519877    0             \n",
      "iter:  15  21:10:06  -3.58  -2.87   -21.519943    0             \n",
      "iter:  16  21:10:07  -3.63  -2.88   -21.520022    0             \n",
      "iter:  17  21:10:08  -3.72  -2.87   -21.520140    0             \n",
      "iter:  18  21:10:09  -3.84  -2.96   -21.520212    0             \n",
      "iter:  19  21:10:09  -4.02  -2.98   -21.520262    0             \n",
      "iter:  20  21:10:10  -4.02  -2.99   -21.520308    0             \n",
      "iter:  21  21:10:11  -4.13  -3.01   -21.520338    0             \n",
      "iter:  22  21:10:12  -4.13  -2.98   -21.520404    0             \n",
      "iter:  23  21:10:12  -4.42  -2.99   -21.520395    0             \n",
      "iter:  24  21:10:13  -4.30  -2.97   -21.520416    0             \n",
      "iter:  25  21:10:14  -4.07  -3.04   -21.520425    0             \n",
      "iter:  26  21:10:15  -4.39  -3.27   -21.520445    0             \n",
      "iter:  27  21:10:15  -4.60  -3.27   -21.520442    0             \n",
      "iter:  28  21:10:16  -4.63  -3.20   -21.520465    0             \n",
      "iter:  29  21:10:17  -4.73  -3.25   -21.520484    0             \n",
      "iter:  30  21:10:17  -4.42  -3.14   -21.520467    0             \n",
      "iter:  31  21:10:18  -4.85  -3.34   -21.520477    0             \n",
      "iter:  32  21:10:19  -5.05  -3.34   -21.520480    0             \n",
      "iter:  33  21:10:20  -5.08  -3.34   -21.520487    0             \n",
      "iter:  34  21:10:20  -5.11  -3.36   -21.520497    0             \n",
      "iter:  35  21:10:21  -4.77  -3.41   -21.520501    0             \n",
      "iter:  36  21:10:22  -5.15  -3.39   -21.520503    0             \n",
      "iter:  37  21:10:23  -5.22  -3.43   -21.520502    0             \n",
      "iter:  38  21:10:23  -5.15  -3.53   -21.520502    0             \n",
      "iter:  39  21:10:24  -5.50  -3.82   -21.520502    0             \n",
      "iter:  40  21:10:25  -5.58  -3.84   -21.520503    0             \n",
      "iter:  41  21:10:25  -5.58  -3.90   -21.520503    0             \n",
      "iter:  42  21:10:26  -5.73  -4.10   -21.520504    0             \n",
      "iter:  43  21:10:27  -5.94  -4.13   -21.520505    0             \n",
      "iter:  44  21:10:28  -5.97  -4.11   -21.520506    0             \n",
      "iter:  45  21:10:28  -5.91  -4.11   -21.520505    0             \n",
      "iter:  46  21:10:29  -6.03  -3.96   -21.520506    0             \n",
      "iter:  47  21:10:30  -6.24  -4.03   -21.520506    0             \n",
      "iter:  48  21:10:31  -6.27  -4.04   -21.520507    0             \n",
      "iter:  49  21:10:31  -6.38  -3.99   -21.520506    0             \n",
      "iter:  50  21:10:32  -6.18  -4.04   -21.520508    0             \n",
      "iter:  51  21:10:33  -6.44  -4.06   -21.520508    0             \n",
      "iter:  52  21:10:33  -5.91  -4.09   -21.520507    0             \n",
      "iter:  53  21:10:34  -6.41  -4.38   -21.520507    0             \n",
      "iter:  54  21:10:35  -6.73  -4.41   -21.520507    0             \n",
      "iter:  55  21:10:36  -6.75  -4.58   -21.520507    0             \n",
      "iter:  56  21:10:36  -6.90  -4.66   -21.520507    0             \n",
      "iter:  57  21:10:37  -6.90  -4.74   -21.520507    0             \n",
      "iter:  58  21:10:38  -7.08  -4.83   -21.520508    0             \n",
      "iter:  59  21:10:39  -7.11  -5.08   -21.520508    0             \n",
      "iter:  60  21:10:39  -7.29  -5.14   -21.520508    0             \n",
      "iter:  61  21:10:40  -7.35  -5.22   -21.520508    0             \n",
      "iter:  62  21:10:41  -7.38  -5.34   -21.520508    0             \n",
      "iter:  63  21:10:41  -7.53  -5.40   -21.520508    0             \n",
      "\n",
      "Converged after 63 iterations.\n",
      "\n",
      "Dipole moment: (3.423237, -1.976407, -0.000000) |e|*Ang\n",
      "\n",
      "Energy contributions relative to reference atoms: (reference = -131849.312437)\n",
      "\n",
      "Kinetic:         -1.504806\n",
      "Potential:       -5.437250\n",
      "External:        +0.000000\n",
      "XC:             -15.089136\n",
      "Entropy (-ST):   -0.000000\n",
      "Local:           +0.510684\n",
      "--------------------------\n",
      "Free energy:    -21.520508\n",
      "Extrapolated:   -21.520508\n",
      "\n",
      "Fermi level: 2.83637\n",
      "\n",
      "Warning: Showing only first 2 kpts\n",
      " Kpt  Band  Eigenvalues  Occupancy\n",
      "  0     7      0.44189    0.12500\n",
      "  0     8      1.88507    0.12500\n",
      "  0     9      4.69495    0.00000\n",
      "  0    10      4.69507    0.00000\n",
      "\n",
      "  1     7      0.61158    0.75000\n",
      "  1     8      1.19026    0.75000\n",
      "  1     9      4.06511    0.00000\n",
      "  1    10      4.26927    0.00000\n",
      "\n",
      "\n",
      "Writing to MoS2_gs.gpw (mode='all')\n",
      "\n"
     ]
    }
   ],
   "source": [
    "from ase.build import mx2\n",
    "from gpaw import GPAW, PW, FermiDirac\n",
    "\n",
    "structure = mx2(formula='MoS2', kind='2H', a=3.184, thickness=3.127,size=(1, 1, 1), vacuum=3.5)\n",
    "structure.pbc = (1, 1, 0)\n",
    "\n",
    "calc = GPAW(mode=PW(400),xc='PBE',setups={'Mo': '6'}, parallel={'kpt': 1},kpts={'size': (4,4,1), 'gamma': True},occupations=FermiDirac(0.01))\n",
    "\n",
    "structure.set_calculator(calc)\n",
    "structure.get_potential_energy()\n",
    "calc.write('MoS2_gs.gpw', 'all')\n"
   ]
  },
  {
   "cell_type": "code",
   "execution_count": 61,
   "metadata": {
    "collapsed": false
   },
   "outputs": [
    {
     "name": "stdout",
     "output_type": "stream",
     "text": [
      "Diagonalizing full Hamiltonian (1605 lowest bands)\n",
      "Matrix size (min, max): 1605, 1625\n",
      "Approximate memory used per core to store H_GG, S_GG: 120.878 MB\n",
      "Notice: Up to twice the amount of memory might be allocated\n",
      "during diagonalization algorithm.\n",
      "The least memory is required when the parallelization is purely\n",
      "over states (bands) and not k-points, set GPAW(..., parallel={'kpt': 1}, ...).\n",
      "72.9031600952s |----------------------------------------| Time: 75.486s\n",
      "Writing to gs_MoS2.gpw (mode='all')\n",
      "\n"
     ]
    }
   ],
   "source": [
    "calc.diagonalize_full_hamiltonian()\n",
    "calc.write('gs_MoS2.gpw', mode='all')"
   ]
  },
  {
   "cell_type": "code",
   "execution_count": 62,
   "metadata": {
    "collapsed": false
   },
   "outputs": [],
   "source": [
    "from gpaw.response.g0w0 import G0W0\n",
    "gw = G0W0(calc='gs_MoS2.gpw',\n",
    "              bands=(8, 11),\n",
    "              ecut=80,\n",
    "              truncation='2D',\n",
    "              nblocksmax=True,\n",
    "              anisotropy_correction=True,\n",
    "              filename='MoS2_g0w0',\n",
    "              savepckl=True)\n",
    "result=gw.calculate()"
   ]
  },
  {
   "cell_type": "code",
   "execution_count": 63,
   "metadata": {
    "collapsed": true
   },
   "outputs": [],
   "source": [
    "from gpaw.response import bse \n",
    "\n",
    "ecut = 50\n",
    "eshift = 0.8\n",
    "\n",
    "bse = bse.BSE('gs_MoS2.gpw',\n",
    "          ecut=ecut,\n",
    "          valence_bands=[8],\n",
    "          conduction_bands=[9,10],\n",
    "          truncation='2D',\n",
    "          nbands=50,\n",
    "          eshift=eshift,\n",
    "          mode='BSE',\n",
    "          integrate_gamma=1,\n",
    "          txt='bse_MoS2_trun.txt')"
   ]
  },
  {
   "cell_type": "code",
   "execution_count": 64,
   "metadata": {
    "collapsed": true
   },
   "outputs": [],
   "source": [
    "import numpy as np\n",
    "\n",
    "from gpaw.kpt_descriptor import KPointDescriptor\n",
    "from gpaw.wavefunctions.pw import PWDescriptor\n",
    "\n",
    "from gpaw.response.kernels import get_coulomb_kernel\n",
    "from gpaw.response.pair import PairDensity\n",
    "\n",
    "from itertools import product\n",
    "\n",
    "import matplotlib.pyplot as plt\n",
    "%matplotlib inline"
   ]
  },
  {
   "cell_type": "code",
   "execution_count": 65,
   "metadata": {
    "collapsed": true
   },
   "outputs": [],
   "source": [
    "nK = bse.kd.nbzkpts\n",
    "valence_bands=[8]\n",
    "conduction_bands=[9,10]\n",
    "nv=len(valence_bands)\n",
    "nc=len(conduction_bands)\n",
    "kpoints=bse.kd.bzk_kc"
   ]
  },
  {
   "cell_type": "code",
   "execution_count": 73,
   "metadata": {
    "collapsed": false
   },
   "outputs": [],
   "source": [
    "Ef=calc.get_fermi_level()\n",
    "enk=result['qp'][0]-Ef"
   ]
  },
  {
   "cell_type": "code",
   "execution_count": 74,
   "metadata": {
    "collapsed": false
   },
   "outputs": [],
   "source": [
    "env=enk[:,:nv];enc=enk[:,nv:]"
   ]
  },
  {
   "cell_type": "code",
   "execution_count": 78,
   "metadata": {
    "collapsed": false
   },
   "outputs": [
    {
     "data": {
      "text/plain": [
       "array([[-1.12931579,  2.71279163,  2.71409256],\n",
       "       [-1.81909887,  1.99916997,  2.24823141],\n",
       "       [-1.53758259,  2.02126218,  2.73536071],\n",
       "       [-1.85501618,  2.18051012,  2.68437268]])"
      ]
     },
     "execution_count": 78,
     "metadata": {},
     "output_type": "execute_result"
    }
   ],
   "source": [
    "enk"
   ]
  },
  {
   "cell_type": "code",
   "execution_count": 8,
   "metadata": {
    "collapsed": true
   },
   "outputs": [],
   "source": [
    "# Calculate exchange interaction\n",
    "bse.q_c=[0.0, 0.0, 0.0]\n",
    "bse.wstc=None\n",
    "qd0 = KPointDescriptor([bse.q_c])\n",
    "pd0 = PWDescriptor(bse.ecut, bse.calc.wfs.gd, complex, qd0)\n",
    "ikq_k = bse.kd.find_k_plus_q(bse.q_c)\n",
    "v_G = get_coulomb_kernel(pd0, bse.kd.N_c, truncation=bse.truncation, wstc=None)\n",
    "bse.pair = PairDensity(bse.calc, bse.ecut)\n",
    "bse.Q_qaGii = []\n",
    "bse.W_qGG = []\n",
    "bse.pd_q = []\n",
    "bse.get_screened_potential(ac=1.0)"
   ]
  },
  {
   "cell_type": "code",
   "execution_count": 85,
   "metadata": {
    "collapsed": false
   },
   "outputs": [
    {
     "name": "stdout",
     "output_type": "stream",
     "text": [
      "Shifting Fermi-level by 0.00 eV\n",
      "Number of completely filled bands: 9\n",
      "Number of partially filled bands: 9\n",
      "Total number of bands: 1605\n",
      "Number of blocks: 1\n"
     ]
    }
   ],
   "source": [
    "bse.Q_qaGii = []\n",
    "bse.W_qGG = []\n",
    "bse.pd_q = []\n",
    "bse.q_c=[0.,0.,0.]\n",
    "bse.wstc=None\n",
    "qd0 = KPointDescriptor([bse.q_c])\n",
    "pd0 = PWDescriptor(bse.ecut, bse.calc.wfs.gd, complex, qd0)\n",
    "v_G = get_coulomb_kernel(pd0, bse.kd.N_c, truncation=bse.truncation, wstc=None)\n",
    "bse.pair = PairDensity(bse.calc, bse.ecut)\n",
    "bse.get_screened_potential()\n",
    "paw_corrections = bse.pair.initialize_paw_corrections(pd0)"
   ]
  },
  {
   "cell_type": "code",
   "execution_count": 127,
   "metadata": {
    "collapsed": false
   },
   "outputs": [],
   "source": [
    "H_trion=np.zeros((nK,nK,nc,nc,nv,\n",
    "                  nK,nK,nc,nc,nv),dtype=np.complex)\n",
    "for k1 in range(nK):\n",
    "    for k2 in range(nK):\n",
    "        k3=bse.kd.find_k_plus_q(kpoints[k2])[k1]\n",
    "        for v in range(nv):\n",
    "            H_trion[k1,k2,:,:,v,k1,k2,:,:,v]-=env[bse.kd.bz2ibz_k[k3],v]\n",
    "for k in range(nK):\n",
    "    for c in range(nc):\n",
    "        H_trion[k,:,c,:,:,k,:,c,:,:]+=enc[bse.kd.bz2ibz_k[k],c]\n",
    "        H_trion[:,k,:,c,:,:,k,:,c,:]+=enc[bse.kd.bz2ibz_k[k],c]\n",
    "\n",
    "for k1,k2 in product(range(nK),range(nK)):\n",
    "    for c1 in range(nc):\n",
    "        for c2 in range(nc):\n",
    "            kpt1_1 = bse.pair.get_k_point(0, k1, conduction_bands[c1], conduction_bands[c1]+1)\n",
    "            kpt2_1 = bse.pair.get_k_point(0, k1, conduction_bands[c2], conduction_bands[c2]+1)\n",
    "        \n",
    "            kpt1_2 = bse.pair.get_k_point(0, k2, conduction_bands[c1], conduction_bands[c1]+1)\n",
    "            kpt2_2 = bse.pair.get_k_point(0, k2, conduction_bands[c2], conduction_bands[c2]+1)\n",
    "                \n",
    "            rho1, iq = bse.get_density_matrix(kpt1_1,kpt1_2)\n",
    "            rho2, iq = bse.get_density_matrix(kpt2_1,kpt2_2)\n",
    "            rho,q= bse.get_density_matrix(kpt1_1,kpt1_1)\n",
    "            W1 = np.dot(np.dot(rho1.conj(),bse.W_qGG[iq]),np.swapaxes(rho2, 1, 2))\n",
    "            \n",
    "            rho1, iq = bse.get_density_matrix(kpt1_2,kpt1_1)\n",
    "            rho2, iq = bse.get_density_matrix(kpt2_2,kpt2_1)\n",
    "            \n",
    "            W2 = np.dot(np.dot(rho1.conj(),bse.W_qGG[iq]),np.swapaxes(rho2, 1, 2))\n",
    "            \n",
    "            H_trion[k1,k2,c1,c2,:,k1,k2,c1,c2,:]+=(W1-W2).reshape(1)[0]\n",
    "    k3=bse.kd.find_k_plus_q(kpoints[k2])[k1]\n",
    "    for c in range(nc):\n",
    "        for v in range(nv):\n",
    "            \n",
    "            kptc_1 = bse.pair.get_k_point(0, k1, conduction_bands[c], conduction_bands[c]+1)\n",
    "            kptc_2 = bse.pair.get_k_point(0, k2, conduction_bands[c], conduction_bands[c]+1)\n",
    "            kptc_3 = bse.pair.get_k_point(0, k3, conduction_bands[c], conduction_bands[c]+1)\n",
    "            \n",
    "            kptv_1 = bse.pair.get_k_point(0, k1, valence_bands[v], valence_bands[v]+1)\n",
    "            kptv_2 = bse.pair.get_k_point(0, k2, valence_bands[v], valence_bands[v]+1)\n",
    "            kptv_3 = bse.pair.get_k_point(0, k3, valence_bands[v], valence_bands[v]+1)\n",
    "            \n",
    "            rho_1, iq = bse.get_density_matrix(kptv_1,kptc_1)\n",
    "            rho_2, iq = bse.get_density_matrix(kptv_2,kptc_2)\n",
    "            rho_3, iq = bse.get_density_matrix(kptv_3,kptc_3)\n",
    "            \n",
    "            H_trion[k1,k2,c,:,v,k1,k2,c,:,v]+=np.sum(rho_1[0,0].conj()*v_G*rho_3[0,0])\n",
    "            H_trion[k1,k2,:,c,v,k1,k2,:,c,v]+=np.sum(rho_2[0,0].conj()*v_G*rho_3[0,0])\n",
    "            \n",
    "            rho_1, iq = bse.get_density_matrix(kptv_1,kptv_3)\n",
    "            rho_2, iq = bse.get_density_matrix(kptc_1,kptc_3)\n",
    "            W=np.dot(np.dot(rho_1.conj(),bse.W_qGG[iq]),np.swapaxes(rho_2, 1, 2))\n",
    "            H_trion[k1,k2,c,:,v,k1,k2,c,:,v]-=W.reshape(1)[0]\n",
    "            \n",
    "            rho_1, iq = bse.get_density_matrix(kptv_2,kptv_3)\n",
    "            rho_2, iq = bse.get_density_matrix(kptc_2,kptc_3)\n",
    "            W=np.dot(np.dot(rho_1.conj(),bse.W_qGG[iq]),np.swapaxes(rho_2, 1, 2))\n",
    "            H_trion[k1,k2,:,c,v,k1,k2,:,c,v]-=W.reshape(1)[0]"
   ]
  },
  {
   "cell_type": "code",
   "execution_count": 128,
   "metadata": {
    "collapsed": true
   },
   "outputs": [],
   "source": [
    "H_size=nK*nK*nc*nc*nv"
   ]
  },
  {
   "cell_type": "code",
   "execution_count": 129,
   "metadata": {
    "collapsed": false
   },
   "outputs": [],
   "source": [
    "H=H_trion.reshape((H_size,H_size))"
   ]
  },
  {
   "cell_type": "code",
   "execution_count": 132,
   "metadata": {
    "collapsed": false
   },
   "outputs": [],
   "source": [
    "E,D=np.linalg.eig(H)"
   ]
  },
  {
   "cell_type": "code",
   "execution_count": 142,
   "metadata": {
    "collapsed": true
   },
   "outputs": [],
   "source": [
    "E_real=E.real[E.real>2]"
   ]
  },
  {
   "cell_type": "code",
   "execution_count": 143,
   "metadata": {
    "collapsed": true
   },
   "outputs": [],
   "source": [
    "E_real=E_real[E_real<2.6]"
   ]
  },
  {
   "cell_type": "code",
   "execution_count": 145,
   "metadata": {
    "collapsed": false
   },
   "outputs": [
    {
     "data": {
      "text/plain": [
       "(array([ 2.,  0.,  0.,  2.,  1.,  1.,  0.,  0.,  2.,  0.,  0.,  1.,  0.,\n",
       "         1.,  0.,  0.,  1.,  1.,  0.,  0.,  0.,  0.,  2.,  0.,  1.,  0.,\n",
       "         0.,  0.,  0.,  1.,  0.,  0.,  0.,  0.,  0.,  0.,  1.,  1.,  1.,\n",
       "         0.,  1.,  0.,  0.,  1.,  1.,  0.,  1.,  1.,  0.,  1.,  1.,  1.,\n",
       "         0.,  1.,  0.,  0.,  0.,  0.,  1.,  1.,  0.,  1.,  0.,  0.,  0.,\n",
       "         0.,  0.,  0.,  1.,  0.,  0.,  0.,  0.,  0.,  0.,  1.,  0.,  0.,\n",
       "         1.,  0.,  2.,  0.,  0.,  0.,  0.,  0.,  2.,  1.,  0.,  0.,  0.,\n",
       "         1.,  0.,  0.,  0.,  0.,  1.,  0.,  0.,  1.]),\n",
       " array([ 2.02948584,  2.03902013,  2.04855441,  2.0580887 ,  2.06762299,\n",
       "         2.07715727,  2.08669156,  2.09622585,  2.10576013,  2.11529442,\n",
       "         2.12482871,  2.13436299,  2.14389728,  2.15343156,  2.16296585,\n",
       "         2.17250014,  2.18203442,  2.19156871,  2.201103  ,  2.21063728,\n",
       "         2.22017157,  2.22970586,  2.23924014,  2.24877443,  2.25830871,\n",
       "         2.267843  ,  2.27737729,  2.28691157,  2.29644586,  2.30598015,\n",
       "         2.31551443,  2.32504872,  2.33458301,  2.34411729,  2.35365158,\n",
       "         2.36318587,  2.37272015,  2.38225444,  2.39178872,  2.40132301,\n",
       "         2.4108573 ,  2.42039158,  2.42992587,  2.43946016,  2.44899444,\n",
       "         2.45852873,  2.46806302,  2.4775973 ,  2.48713159,  2.49666588,\n",
       "         2.50620016,  2.51573445,  2.52526873,  2.53480302,  2.54433731,\n",
       "         2.55387159,  2.56340588,  2.57294017,  2.58247445,  2.59200874,\n",
       "         2.60154303,  2.61107731,  2.6206116 ,  2.63014588,  2.63968017,\n",
       "         2.64921446,  2.65874874,  2.66828303,  2.67781732,  2.6873516 ,\n",
       "         2.69688589,  2.70642018,  2.71595446,  2.72548875,  2.73502304,\n",
       "         2.74455732,  2.75409161,  2.76362589,  2.77316018,  2.78269447,\n",
       "         2.79222875,  2.80176304,  2.81129733,  2.82083161,  2.8303659 ,\n",
       "         2.83990019,  2.84943447,  2.85896876,  2.86850304,  2.87803733,\n",
       "         2.88757162,  2.8971059 ,  2.90664019,  2.91617448,  2.92570876,\n",
       "         2.93524305,  2.94477734,  2.95431162,  2.96384591,  2.9733802 ,\n",
       "         2.98291448]),\n",
       " <a list of 100 Patch objects>)"
      ]
     },
     "execution_count": 145,
     "metadata": {},
     "output_type": "execute_result"
    },
    {
     "data": {
      "image/png": "[encoded data removed]",
      "text/plain": [
       "<matplotlib.figure.Figure at 0x1156d5150>"
      ]
     },
     "metadata": {},
     "output_type": "display_data"
    }
   ],
   "source": [
    "plt.hist(E_real,bins=100)"
   ]
  },
  {
   "cell_type": "code",
   "execution_count": 146,
   "metadata": {
    "collapsed": false
   },
   "outputs": [
    {
     "data": {
      "text/plain": [
       "array([ 2.06077598,  2.19468736,  2.79996266,  2.74636774,  2.10674919,\n",
       "        2.98291448,  2.61613058,  2.51960697,  2.43984891,  2.58666543,\n",
       "        2.85782187,  2.39653259,  2.5016527 ,  2.90356991,  2.86355543,\n",
       "        2.48460383,  2.38767555,  2.67968121,  2.23931634,  2.59359008,\n",
       "        2.14154102,  2.03726349,  2.05982387,  2.15413734,  2.10814302,\n",
       "        2.02948584,  2.8510251 ,  2.44951502,  2.41848871,  2.50719098,\n",
       "        2.54125805,  2.37712022,  2.07933333,  2.77698962,  2.94605943,\n",
       "        2.80100146,  2.47481357,  2.25918272,  2.24289255,  2.30627608,\n",
       "        2.18602855,  2.06770937])"
      ]
     },
     "execution_count": 146,
     "metadata": {},
     "output_type": "execute_result"
    }
   ],
   "source": [
    "E_real"
   ]
  },
  {
   "cell_type": "code",
   "execution_count": null,
   "metadata": {
    "collapsed": true
   },
   "outputs": [],
   "source": []
  }
 ],
 "metadata": {
  "kernelspec": {
   "display_name": "Python 2",
   "language": "python",
   "name": "python2"
  },
  "language_info": {
   "codemirror_mode": {
    "name": "ipython",
    "version": 2
   },
   "file_extension": ".py",
   "mimetype": "text/x-python",
   "name": "python",
   "nbconvert_exporter": "python",
   "pygments_lexer": "ipython2",
   "version": "2.7.14"
  }
 },
 "nbformat": 4,
 "nbformat_minor": 2
}
