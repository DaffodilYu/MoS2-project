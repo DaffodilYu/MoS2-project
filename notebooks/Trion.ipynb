{
 "cells": [
  {
   "cell_type": "code",
   "execution_count": 1,
   "metadata": {
    "collapsed": true
   },
   "outputs": [],
   "source": [
    "import numpy as np\n",
    "import matplotlib.pyplot as plt\n",
    "%matplotlib inline"
   ]
  },
  {
   "cell_type": "code",
   "execution_count": 68,
   "metadata": {
    "collapsed": false
   },
   "outputs": [
    {
     "name": "stdout",
     "output_type": "stream",
     "text": [
      "\n",
      "  ___ ___ ___ _ _ _  \n",
      " |   |   |_  | | | | \n",
      " | | | | | . | | | | \n",
      " |__ |  _|___|_____|  1.3.0\n",
      " |___|_|             \n",
      "\n",
      "User:   Yaroslav@MacBook-Pro-Aroslav-2.local\n",
      "Date:   Tue Mar 20 12:08:51 2018\n",
      "Arch:   x86_64\n",
      "Pid:    7137\n",
      "Python: 2.7.14\n",
      "gpaw:   /Users/Yaroslav/Library/Python/2.7/lib/python/site-packages/gpaw\n",
      "_gpaw:  /Users/Yaroslav/Library/Python/2.7/lib/python/site-packages/_gpaw.so\n",
      "ase:    /usr/local/lib/python2.7/site-packages/ase (version 3.15.0)\n",
      "numpy:  /Users/Yaroslav/Library/Python/2.7/lib/python/site-packages/numpy (version 1.13.3)\n",
      "scipy:  /usr/local/lib/python2.7/site-packages/scipy (version 0.19.1)\n",
      "units:  Angstrom and eV\n",
      "cores:  1\n",
      "\n",
      "Input parameters:\n",
      "  kpts: {gamma: True,\n",
      "         size: (4, 4, 1)}\n",
      "  mode: {ecut: 400.0,\n",
      "         name: pw}\n",
      "  occupations: {name: fermi-dirac,\n",
      "                width: 0.01}\n",
      "  setups: {Mo: 6}\n",
      "  xc: PBE\n",
      "\n",
      "Timing:                              incl.     excl.\n",
      "-----------------------------------------------------------\n",
      "Full diag:                          83.722     0.174   0.0% |\n",
      " Build H and S:                     14.810    14.810   0.4% |\n",
      " Diagonalize:                       68.589    68.589   1.8% ||\n",
      " Projections:                        0.149     0.149   0.0% |\n",
      " Redistribute:                       0.000     0.000   0.0% |\n",
      "Hamiltonian:                         0.329     0.002   0.0% |\n",
      " Atomic:                             0.226     0.001   0.0% |\n",
      "  XC Correction:                     0.224     0.224   0.0% |\n",
      " Calculate atomic Hamiltonians:      0.023     0.023   0.0% |\n",
      " Communicate:                        0.000     0.000   0.0% |\n",
      " Initialize Hamiltonian:             0.000     0.000   0.0% |\n",
      " Poisson:                            0.001     0.001   0.0% |\n",
      " XC 3D grid:                         0.078     0.078   0.0% |\n",
      "LCAO initialization:                 1.228     0.276   0.0% |\n",
      " LCAO eigensolver:                   0.271     0.001   0.0% |\n",
      "  Calculate projections:             0.019     0.019   0.0% |\n",
      "  DenseAtomicCorrection:             0.001     0.001   0.0% |\n",
      "  Distribute overlap matrix:         0.000     0.000   0.0% |\n",
      "  Orbital Layouts:                   0.050     0.050   0.0% |\n",
      "  Potential matrix:                  0.188     0.188   0.0% |\n",
      "  Sum over cells:                    0.013     0.013   0.0% |\n",
      " LCAO to grid:                       0.129     0.129   0.0% |\n",
      " Set positions (LCAO WFS):           0.552     0.000   0.0% |\n",
      "  Basic WFS set positions:           0.001     0.001   0.0% |\n",
      "  Basis functions set positions:     0.000     0.000   0.0% |\n",
      "  TCI: Calculate S, T, P:            0.551     0.551   0.0% |\n",
      "PWDescriptor:                        0.007     0.007   0.0% |\n",
      "SCF-cycle:                          26.259     0.076   0.0% |\n",
      " Davidson:                           7.577     1.498   0.0% |\n",
      "  calc. matrices:                    5.805     5.805   0.2% |\n",
      "  diagonalize:                       0.131     0.131   0.0% |\n",
      "  rotate_psi:                        0.142     0.142   0.0% |\n",
      " Density:                            3.971     0.001   0.0% |\n",
      "  Atomic density matrices:           0.044     0.044   0.0% |\n",
      "  Mix:                               0.906     0.906   0.0% |\n",
      "  Multipole moments:                 0.007     0.007   0.0% |\n",
      "  Pseudo density:                    3.012     2.878   0.1% |\n",
      "   Symmetrize density:               0.134     0.134   0.0% |\n",
      " Hamiltonian:                        8.928     0.041   0.0% |\n",
      "  Atomic:                            6.489     0.038   0.0% |\n",
      "   XC Correction:                    6.451     6.451   0.2% |\n",
      "  Calculate atomic Hamiltonians:     0.683     0.683   0.0% |\n",
      "  Communicate:                       0.000     0.000   0.0% |\n",
      "  Poisson:                           0.014     0.014   0.0% |\n",
      "  XC 3D grid:                        1.700     1.700   0.0% |\n",
      " Orthonormalize:                     0.019     0.000   0.0% |\n",
      "  Band Layouts:                      0.000     0.000   0.0% |\n",
      "   Inverse Cholesky:                 0.000     0.000   0.0% |\n",
      "  calc_s_matrix:                     0.002     0.002   0.0% |\n",
      "  projections:                       0.014     0.014   0.0% |\n",
      "  rotate_psi:                        0.002     0.002   0.0% |\n",
      " Subspace diag:                      5.688     0.013   0.0% |\n",
      "  Band Layouts:                      0.028     0.003   0.0% |\n",
      "   Diagonalize:                      0.023     0.023   0.0% |\n",
      "   Distribute results:               0.002     0.002   0.0% |\n",
      "  calc_h_matrix:                     5.524     5.524   0.1% |\n",
      "  rotate_psi:                        0.124     0.124   0.0% |\n",
      "Set symmetry:                        0.016     0.016   0.0% |\n",
      "Other:                            3605.399  3605.399  97.0% |--------------------------------------|\n",
      "-----------------------------------------------------------\n",
      "Total:                                      3716.959 100.0%\n",
      "\n",
      "Memory usage: 909.46 MiB\n",
      "Date: Tue Mar 20 12:08:51 2018\n",
      "System changes: positions, numbers, cell, pbc, initial_charges, initial_magmoms \n",
      "\n",
      "Initialize ...\n",
      "\n",
      "Mo-setup:\n",
      "  name: Molybdenum\n",
      "  id: 777abf82e11571d8662b25ce786408fd\n",
      "  Z: 42\n",
      "  valence: 6\n",
      "  core: 36\n",
      "  charge: 0.0\n",
      "  file: /Users/Yaroslav/gpaw-setups-0.9.20000/Mo.6.PBE.gz\n",
      "  cutoffs: 1.32(comp), 2.62(filt), 3.48(core), lmax=2\n",
      "  valence states:\n",
      "                energy  radius\n",
      "    5s(1.00)    -4.084   1.482\n",
      "    5p(0.00)    -1.044   1.482\n",
      "    4d(5.00)    -3.754   1.323\n",
      "    *s          23.128   1.482\n",
      "    *p          26.167   1.482\n",
      "    *d          23.458   1.323\n",
      "\n",
      "  Using partial waves for Mo as LCAO basis\n",
      "\n",
      "S-setup:\n",
      "  name: Sulfur\n",
      "  id: ca434db9faa07220b7a1d8cb6886b7a9\n",
      "  Z: 16\n",
      "  valence: 6\n",
      "  core: 10\n",
      "  charge: 0.0\n",
      "  file: /Users/Yaroslav/gpaw-setups-0.9.20000/S.PBE.gz\n",
      "  cutoffs: 0.76(comp), 1.77(filt), 1.66(core), lmax=2\n",
      "  valence states:\n",
      "                energy  radius\n",
      "    3s(2.00)   -17.254   0.974\n",
      "    3p(4.00)    -7.008   0.979\n",
      "    *s           9.957   0.974\n",
      "    *p          20.203   0.979\n",
      "    *d           0.000   0.900\n",
      "\n",
      "  Using partial waves for S as LCAO basis\n",
      "\n",
      "Reference energy: -131849.312437\n",
      "\n",
      "Spin-paired calculation\n",
      "\n",
      "Occupation numbers:\n",
      "  Fermi-Dirac: width=0.0100 eV\n",
      "\n",
      "Convergence criteria:\n",
      "  Maximum total energy change: 0.0005 eV / electron\n",
      "  Maximum integral of absolute density change: 0.0001 electrons\n",
      "  Maximum integral of absolute eigenstate change: 4e-08 eV^2\n",
      "  Maximum number of iterations: 333\n",
      "\n",
      "Symmetries present (total): 6\n",
      "\n",
      "  ( 1  1  0)  ( 1  0  0)  ( 0  1  0)  ( 0 -1  0)  (-1  0  0)  (-1 -1  0)\n",
      "  ( 0 -1  0)  ( 0  1  0)  (-1 -1  0)  (-1  0  0)  ( 1  1  0)  ( 1  0  0)\n",
      "  ( 0  0  1)  ( 0  0  1)  ( 0  0  1)  ( 0  0  1)  ( 0  0  1)  ( 0  0  1)\n",
      "\n",
      "16 k-points: 4 x 4 x 1 Monkhorst-Pack grid + [1/8,1/8,0.000000]\n",
      "4 k-points in the irreducible part of the Brillouin zone\n",
      "       k-points in crystal coordinates                weights\n",
      "   0:     0.00000000    0.00000000    0.00000000          1/16\n",
      "   1:     0.25000000    0.00000000    0.00000000          6/16\n",
      "   2:     0.50000000    0.25000000    0.00000000          6/16\n",
      "   3:     0.50000000    0.50000000    0.00000000          3/16\n",
      "\n",
      "Wave functions: Plane wave expansion\n",
      "  Cutoff energy: 400.000 eV\n",
      "  Number of coefficients (min, max): 1605, 1625\n",
      "  Using Numpy's FFT\n",
      "  Eigensolver: None  MatrixOperator buffer_size: default value or \n",
      "                              see value of nblock in input file\n",
      "Diagonalizer layout: Serial LAPACKOrthonormalizer layout: Serial LAPACK \n",
      "\n",
      "Davidson(niter=1, smin=None, normalize=True) \n",
      "\n",
      "Densities:\n",
      "  Coarse grid: 14*14*48 grid\n",
      "  Fine grid: 28*28*96 grid\n",
      "  Total Charge: 0.000000 \n",
      "\n",
      "Density mixing:\n",
      "  Method: separate\n",
      "  Backend: pulay\n",
      "  Linear mixing parameter: 0.05\n",
      "  Mixing with 5 old densities\n",
      "  Damping of long wave oscillations: 50 \n",
      "\n",
      "Hamiltonian:\n",
      "  XC and Coulomb potentials evaluated on a 28*28*96 grid\n",
      "  Using the PBE Exchange-Correlation functional\n",
      " \n",
      "\n",
      "Memory estimate:\n",
      "  Process memory now: 909.46 MiB\n",
      "  Calculator: 9.86 MiB\n",
      "    Density: 4.43 MiB\n",
      "      Arrays: 1.87 MiB\n",
      "      Localized functions: 1.85 MiB\n",
      "      Mixer: 0.72 MiB\n",
      "    Hamiltonian: 1.26 MiB\n",
      "      Arrays: 1.22 MiB\n",
      "      XC: 0.00 MiB\n",
      "      Poisson: 0.00 MiB\n",
      "      vbar: 0.04 MiB\n",
      "    Wavefunctions: 4.17 MiB\n",
      "      Arrays psit_nG: 1.69 MiB\n",
      "      Eigensolver: 0.59 MiB\n",
      "      Projections: 0.05 MiB\n",
      "      Projectors: 0.99 MiB\n",
      "      Overlap op: 0.43 MiB\n",
      "      PW-descriptor: 0.43 MiB\n",
      "\n",
      "Total number of cores used: 1\n",
      "\n",
      "Number of atoms: 3\n",
      "Number of atomic orbitals: 17\n",
      "Number of bands in calculation: 17\n",
      "Bands to converge: occupied states only\n",
      "Number of valence electrons: 18\n",
      "\n",
      "... initialized\n",
      "\n",
      "Initializing position-dependent things.\n",
      "\n",
      "Density initialized from atomic densities\n",
      "Creating initial wave functions:\n",
      "  17 bands from LCAO basis set\n",
      "\n",
      "                     \n",
      "                     \n",
      "                     \n",
      "                     \n",
      "            S        \n",
      "                     \n",
      "       Mo            \n",
      "                     \n",
      "            S        \n",
      "                     \n",
      "                     \n",
      "                     \n",
      "                     \n",
      "\n",
      "Positions:\n",
      "   0 Mo     0.000000    0.000000    5.063500\n",
      "   1 S      1.592000    0.919142    6.627000\n",
      "   2 S      1.592000    0.919142    3.500000\n",
      "\n",
      "Unit cell:\n",
      "           periodic     x           y           z      points  spacing\n",
      "  1. axis:    yes    3.184000    0.000000    0.000000    14     0.1970\n",
      "  2. axis:    yes   -1.592000    2.757425    0.000000    14     0.1970\n",
      "  3. axis:    no     0.000000   -0.000000   10.127000    48     0.2110\n",
      "\n",
      "  Lengths:   3.184000   3.184000  10.127000\n",
      "  Angles:   90.000000  90.000000 120.000000\n",
      "\n",
      "Effective grid spacing dv^(1/3) = 0.2114\n",
      "\n",
      "                     log10-error:    total        iterations:\n",
      "           time      wfs    density  energy       fermi  poisson\n",
      "iter:   1  12:08:55  +2.16   +inf   -22.737743    0             \n",
      "iter:   2  12:08:55  +0.23   +inf   -23.078596    0             \n",
      "iter:   3  12:08:56  -0.45   +inf   -23.153052    0             \n",
      "iter:   4  12:08:56  -0.64  -0.96   -22.617237    0             \n",
      "iter:   5  12:08:57  -0.48  -1.03   -21.777475    0             \n",
      "iter:   6  12:08:58  -1.19  -1.19   -21.672709    0             \n",
      "iter:   7  12:08:59  -0.45  -1.33   -21.552723    0             \n",
      "iter:   8  12:09:00  -1.21  -1.62   -21.523714    0             \n",
      "iter:   9  12:09:00  -1.84  -1.75   -21.520312    0             \n",
      "iter:  10  12:09:01  -2.33  -2.38   -21.519145    0             \n",
      "iter:  11  12:09:02  -2.84  -2.51   -21.519484    0             \n",
      "iter:  12  12:09:03  -3.00  -2.50   -21.519769    0             \n",
      "iter:  13  12:09:04  -3.20  -2.53   -21.519787    0             \n",
      "iter:  14  12:09:04  -3.39  -2.74   -21.519877    0             \n",
      "iter:  15  12:09:05  -3.58  -2.87   -21.519943    0             \n",
      "iter:  16  12:09:06  -3.63  -2.88   -21.520022    0             \n",
      "iter:  17  12:09:07  -3.72  -2.87   -21.520140    0             \n",
      "iter:  18  12:09:07  -3.84  -2.96   -21.520212    0             \n",
      "iter:  19  12:09:08  -4.02  -2.98   -21.520262    0             \n",
      "iter:  20  12:09:09  -4.02  -2.99   -21.520308    0             \n",
      "iter:  21  12:09:10  -4.13  -3.01   -21.520338    0             \n",
      "iter:  22  12:09:10  -4.13  -2.98   -21.520404    0             \n",
      "iter:  23  12:09:11  -4.42  -2.99   -21.520395    0             \n",
      "iter:  24  12:09:12  -4.30  -2.97   -21.520416    0             \n",
      "iter:  25  12:09:13  -4.07  -3.04   -21.520425    0             \n",
      "iter:  26  12:09:14  -4.39  -3.27   -21.520445    0             \n",
      "iter:  27  12:09:14  -4.60  -3.27   -21.520442    0             \n",
      "iter:  28  12:09:15  -4.63  -3.20   -21.520465    0             \n",
      "iter:  29  12:09:16  -4.73  -3.25   -21.520484    0             \n",
      "iter:  30  12:09:16  -4.42  -3.14   -21.520467    0             \n",
      "iter:  31  12:09:17  -4.85  -3.34   -21.520477    0             \n",
      "iter:  32  12:09:18  -5.05  -3.34   -21.520480    0             \n",
      "iter:  33  12:09:19  -5.08  -3.34   -21.520487    0             \n",
      "iter:  34  12:09:20  -5.11  -3.36   -21.520497    0             \n",
      "iter:  35  12:09:20  -4.77  -3.41   -21.520501    0             \n",
      "iter:  36  12:09:21  -5.15  -3.39   -21.520503    0             \n",
      "iter:  37  12:09:22  -5.22  -3.43   -21.520502    0             \n",
      "iter:  38  12:09:23  -5.15  -3.53   -21.520502    0             \n",
      "iter:  39  12:09:23  -5.50  -3.82   -21.520502    0             \n",
      "iter:  40  12:09:24  -5.58  -3.84   -21.520503    0             \n",
      "iter:  41  12:09:25  -5.58  -3.90   -21.520503    0             \n",
      "iter:  42  12:09:25  -5.73  -4.10   -21.520504    0             \n",
      "iter:  43  12:09:26  -5.94  -4.13   -21.520505    0             \n",
      "iter:  44  12:09:27  -5.97  -4.11   -21.520506    0             \n",
      "iter:  45  12:09:28  -5.91  -4.11   -21.520505    0             \n",
      "iter:  46  12:09:28  -6.03  -3.96   -21.520506    0             \n",
      "iter:  47  12:09:29  -6.24  -4.03   -21.520506    0             \n",
      "iter:  48  12:09:30  -6.27  -4.04   -21.520507    0             \n",
      "iter:  49  12:09:31  -6.38  -3.99   -21.520506    0             \n",
      "iter:  50  12:09:31  -6.18  -4.04   -21.520508    0             \n",
      "iter:  51  12:09:32  -6.44  -4.06   -21.520508    0             \n",
      "iter:  52  12:09:33  -5.91  -4.09   -21.520507    0             \n",
      "iter:  53  12:09:34  -6.41  -4.38   -21.520507    0             \n",
      "iter:  54  12:09:35  -6.73  -4.41   -21.520507    0             \n",
      "iter:  55  12:09:35  -6.75  -4.58   -21.520507    0             \n",
      "iter:  56  12:09:36  -6.90  -4.66   -21.520507    0             \n",
      "iter:  57  12:09:37  -6.90  -4.74   -21.520507    0             \n",
      "iter:  58  12:09:38  -7.08  -4.83   -21.520508    0             \n",
      "iter:  59  12:09:39  -7.11  -5.08   -21.520508    0             \n",
      "iter:  60  12:09:40  -7.29  -5.14   -21.520508    0             \n",
      "iter:  61  12:09:40  -7.35  -5.22   -21.520508    0             \n",
      "iter:  62  12:09:41  -7.38  -5.34   -21.520508    0             \n",
      "iter:  63  12:09:42  -7.53  -5.40   -21.520508    0             \n",
      "\n",
      "Converged after 63 iterations.\n",
      "\n",
      "Dipole moment: (3.423237, -1.976407, -0.000000) |e|*Ang\n",
      "\n",
      "Energy contributions relative to reference atoms: (reference = -131849.312437)\n",
      "\n",
      "Kinetic:         -1.504806\n",
      "Potential:       -5.437250\n",
      "External:        +0.000000\n",
      "XC:             -15.089136\n",
      "Entropy (-ST):   -0.000000\n",
      "Local:           +0.510684\n",
      "--------------------------\n",
      "Free energy:    -21.520508\n",
      "Extrapolated:   -21.520508\n",
      "\n",
      "Fermi level: 2.83637\n",
      "\n",
      "Warning: Showing only first 2 kpts\n",
      " Kpt  Band  Eigenvalues  Occupancy\n",
      "  0     7      0.44189    0.12500\n",
      "  0     8      1.88507    0.12500\n",
      "  0     9      4.69495    0.00000\n",
      "  0    10      4.69507    0.00000\n",
      "\n",
      "  1     7      0.61158    0.75000\n",
      "  1     8      1.19026    0.75000\n",
      "  1     9      4.06511    0.00000\n",
      "  1    10      4.26927    0.00000\n",
      "\n",
      "\n",
      "Writing to MoS2_gs.gpw (mode='all')\n",
      "\n"
     ]
    }
   ],
   "source": [
    "from ase.build import mx2\n",
    "from gpaw import GPAW, PW, FermiDirac\n",
    "\n",
    "structure = mx2(formula='MoS2', kind='2H', a=3.184, thickness=3.127,size=(1, 1, 1), vacuum=3.5)\n",
    "structure.pbc = (1, 1, 0)\n",
    "\n",
    "calc = GPAW(mode=PW(400),\n",
    "            xc='PBE', \n",
    "            setups={'Mo': '6'},\n",
    "            parallel={'kpt': 1},\n",
    "            kpts={'size': (4,4,1),'gamma': True},\n",
    "            occupations=FermiDirac(0.01))\n",
    "\n",
    "structure.set_calculator(calc)\n",
    "structure.get_potential_energy()\n",
    "calc.write('MoS2_gs.gpw', 'all')"
   ]
  },
  {
   "cell_type": "code",
   "execution_count": 70,
   "metadata": {
    "collapsed": false
   },
   "outputs": [
    {
     "name": "stdout",
     "output_type": "stream",
     "text": [
      "Diagonalizing full Hamiltonian (1605 lowest bands)\n",
      "Matrix size (min, max): 1605, 1625\n",
      "Approximate memory used per core to store H_GG, S_GG: 120.878 MB\n",
      "Notice: Up to twice the amount of memory might be allocated\n",
      "during diagonalization algorithm.\n",
      "The least memory is required when the parallelization is purely\n",
      "over states (bands) and not k-points, set GPAW(..., parallel={'kpt': 1}, ...).\n",
      "79.5704193115s |----------------------------------------| Time: 81.556s\n",
      "Writing to gs_MoS2.gpw (mode='all')\n",
      "\n"
     ]
    }
   ],
   "source": [
    "calc.diagonalize_full_hamiltonian()\n",
    "calc.write('gs_MoS2.gpw', mode='all')"
   ]
  },
  {
   "cell_type": "code",
   "execution_count": 71,
   "metadata": {
    "collapsed": false
   },
   "outputs": [],
   "source": [
    "from gpaw.response.g0w0 import G0W0\n",
    "gw = G0W0(calc='gs_MoS2.gpw',\n",
    "              bands=(8, 11),\n",
    "              ecut=80,\n",
    "              truncation='2D',\n",
    "              nblocksmax=True,\n",
    "              anisotropy_correction=True,\n",
    "              filename='MoS2_g0w0_%s' %ecut,\n",
    "              savepckl=True)\n",
    "result=gw.calculate()"
   ]
  },
  {
   "cell_type": "code",
   "execution_count": 83,
   "metadata": {
    "collapsed": false
   },
   "outputs": [],
   "source": [
    "Ef=calc.get_fermi_level()\n",
    "enk=result['qp'][0]-Ef"
   ]
  },
  {
   "cell_type": "code",
   "execution_count": 85,
   "metadata": {
    "collapsed": true
   },
   "outputs": [],
   "source": [
    "from gpaw.response import bse \n",
    "\n",
    "ecut = 50\n",
    "eshift = 0.8\n",
    "\n",
    "bse = bse.BSE('gs_MoS2.gpw',\n",
    "          ecut=ecut,\n",
    "          valence_bands=[8],\n",
    "          conduction_bands=[9,10],\n",
    "          truncation='2D',\n",
    "          nbands=50,\n",
    "          eshift=eshift,\n",
    "          mode='BSE',\n",
    "          integrate_gamma=1,\n",
    "          txt='bse_MoS2_trun.txt')"
   ]
  },
  {
   "cell_type": "code",
   "execution_count": 86,
   "metadata": {
    "collapsed": true
   },
   "outputs": [],
   "source": [
    "from gpaw.kpt_descriptor import KPointDescriptor\n",
    "from gpaw.wavefunctions.pw import PWDescriptor\n",
    "from gpaw.response.chi0 import Chi0\n",
    "from gpaw.response.kernels import get_coulomb_kernel\n",
    "from gpaw.response.kernels import get_integrated_kernel\n",
    "from gpaw.response.wstc import WignerSeitzTruncatedCoulomb\n",
    "from gpaw.response.pair import PairDensity"
   ]
  },
  {
   "cell_type": "code",
   "execution_count": 87,
   "metadata": {
    "collapsed": true
   },
   "outputs": [],
   "source": [
    "nK = bse.kd.nbzkpts\n",
    "nc=bse.nc\n",
    "nv=bse.nv\n",
    "ibz_to_bz=bse.kd.bz2ibz_k"
   ]
  },
  {
   "cell_type": "code",
   "execution_count": 224,
   "metadata": {
    "collapsed": false
   },
   "outputs": [],
   "source": [
    "H=np.zeros((nK,nK,nK,nc,nc,nv),dtype=np.complex)"
   ]
  },
  {
   "cell_type": "code",
   "execution_count": 225,
   "metadata": {
    "collapsed": false
   },
   "outputs": [],
   "source": [
    "for k1 in range(nK):\n",
    "    for k2 in range(nK):\n",
    "        for k3 in range(nK):\n",
    "            for c1 in range(nc):\n",
    "                for c2 in range(nc):\n",
    "                    for v in range(nv):\n",
    "                        H[k1,k2,k3,c1,c2,v]=(enk[ibz_to_bz[k1]][c1]+enk[ibz_to_bz[k2]][c2]-enk[ibz_to_bz[k3]][v])"
   ]
  },
  {
   "cell_type": "code",
   "execution_count": 226,
   "metadata": {
    "collapsed": false
   },
   "outputs": [
    {
     "data": {
      "text/plain": [
       "(16, 16, 16, 2, 2, 1)"
      ]
     },
     "execution_count": 226,
     "metadata": {},
     "output_type": "execute_result"
    }
   ],
   "source": [
    "H.shape"
   ]
  },
  {
   "cell_type": "code",
   "execution_count": 115,
   "metadata": {
    "collapsed": true
   },
   "outputs": [],
   "source": [
    "bse.q_c=[0.0, 0.0, 0.0]\n",
    "bse.wstc=None"
   ]
  },
  {
   "cell_type": "code",
   "execution_count": null,
   "metadata": {
    "collapsed": false
   },
   "outputs": [],
   "source": [
    "qd0 = KPointDescriptor([bse.q_c])\n",
    "pd0 = PWDescriptor(bse.ecut, bse.calc.wfs.gd, complex, qd0)\n",
    "v_G = get_coulomb_kernel(pd0, bse.kd.N_c, truncation=bse.truncation, wstc=None)\n",
    "bse.pair = PairDensity(bse.calc, bse.ecut, world=serial_comm,txt='pair.txt')\n",
    "bse.get_screened_potential()\n",
    "paw_corrections = bse.pair.initialize_paw_corrections(pd0)\n",
    "get_pair = bse.pair.get_kpoint_pair\n",
    "get_rho = bse.pair.get_pair_density"
   ]
  },
  {
   "cell_type": "code",
   "execution_count": 243,
   "metadata": {
    "collapsed": true
   },
   "outputs": [],
   "source": [
    "bands=[8,9,10]\n",
    "con_bands=[9,10]\n",
    "val_bands=[8]\n",
    "fcb=9\n",
    "fvb=8"
   ]
  },
  {
   "cell_type": "code",
   "execution_count": 257,
   "metadata": {
    "collapsed": false
   },
   "outputs": [
    {
     "name": "stderr",
     "output_type": "stream",
     "text": [
      "100% |########################################################################|\n"
     ]
    }
   ],
   "source": [
    "rho=np.zeros((nK,len(bands),len(bands),len(v_G)),dtype=np.complex)\n",
    "occ_diff=np.zeros((nK,len(bands),len(bands)),dtype=np.complex)\n",
    "bar=progressbar.ProgressBar()\n",
    "for k in bar(range(nK)):\n",
    "    for n,m in product(bands,bands):\n",
    "        pair = get_pair(pd0, 0, k,n, n+1, m, m+1)\n",
    "        occ_diff[k, n-fvb,m-fvb] = pair.get_occupation_differences(np.array([n]), np.array([m]))\n",
    "        rho[k, n-fvb,m-fvb] = get_rho(pd0, pair, np.array([n]), np.array([m]),optical_limit=True,\n",
    "                                              direction=0,Q_aGii=Q_aGii,extend_head=False)"
   ]
  },
  {
   "cell_type": "code",
   "execution_count": 245,
   "metadata": {
    "collapsed": false
   },
   "outputs": [
    {
     "name": "stderr",
     "output_type": "stream",
     "text": [
      "100% |########################################################################|\n"
     ]
    }
   ],
   "source": [
    "from itertools import product\n",
    "import progressbar\n",
    "bar=progressbar.ProgressBar()\n",
    "for k1 in bar(range(nK)):\n",
    "    for k2 in range(nK):\n",
    "        for c1 in con_bands:\n",
    "            for c2 in con_bands:\n",
    "                kpt1_1 = bse.pair.get_k_point(0, k1, c1, c1+1)\n",
    "                kpt2_1 = bse.pair.get_k_point(0, k1, c2, c2+1)\n",
    "                        \n",
    "                k_2=bse.kd.find_k_plus_q(bse.qd.bzk_kc[k2], [kpt1_1.K])[0]\n",
    "                kpt1_2 = bse.pair.get_k_point(0, k_2, c1, c1+1)\n",
    "                kpt2_2 = bse.pair.get_k_point(0, k_2, c2, c2+1)\n",
    "                        \n",
    "                rho1, iq = bse.get_density_matrix(kpt1_1,kpt1_2)\n",
    "                rho2, iq = bse.get_density_matrix(kpt2_1,kpt2_2)\n",
    "                W1 = np.dot(np.dot(rho1.conj(),bse.W_qGG[iq]),np.swapaxes(rho2, 1, 2))\n",
    "                W2 = np.dot(np.dot(rho2.conj(),bse.W_qGG[iq]),np.swapaxes(rho1, 1, 2))\n",
    "                        \n",
    "                H[k1,k2,:,c1-fcb,c2-fcb,:]+=(W1-W2).reshape(1)[0]                  "
   ]
  },
  {
   "cell_type": "code",
   "execution_count": 265,
   "metadata": {
    "collapsed": false
   },
   "outputs": [
    {
     "name": "stderr",
     "output_type": "stream",
     "text": [
      "100% |########################################################################|\n"
     ]
    }
   ],
   "source": [
    "bar=progressbar.ProgressBar()\n",
    "for k1 in bar(range(nK)):\n",
    "    for k2 in range(nK):\n",
    "        for c in con_bands:\n",
    "            for v in val_bands:\n",
    "                kpt1_1 = bse.pair.get_k_point(0, k1, c+fcb, c+fcb+1)\n",
    "                kpt2_1 = bse.pair.get_k_point(0, k1, v+fvb, v+fvb+1)\n",
    "                        \n",
    "                k_2=bse.kd.find_k_plus_q(bse.qd.bzk_kc[k2], [k1])[0]\n",
    "                kpt1_2 = bse.pair.get_k_point(0, k_2, c+fcb, c+fcb+1)\n",
    "                kpt2_2 = bse.pair.get_k_point(0, k_2, v+fvb, v+fvb+1)\n",
    "                        \n",
    "                rho1, iq = bse.get_density_matrix(kpt1_1,kpt1_2)\n",
    "                rho2, iq = bse.get_density_matrix(kpt2_1,kpt2_2)\n",
    "                W = np.dot(np.dot(rho1.conj(),bse.W_qGG[iq]),np.swapaxes(rho2, 1, 2))\n",
    "                V = np.dot(rho[k1,c-fvb,c-fvb].conj()*v_G,rho[k2,v-fvb,v-fvb].T)\n",
    "                        \n",
    "                H[k1,:,k2,c-fcb,:,v-fvb]-=(W-V).reshape(1)[0]                  "
   ]
  },
  {
   "cell_type": "code",
   "execution_count": 266,
   "metadata": {
    "collapsed": false
   },
   "outputs": [
    {
     "name": "stderr",
     "output_type": "stream",
     "text": [
      "100% |########################################################################|\n"
     ]
    }
   ],
   "source": [
    "bar=progressbar.ProgressBar()\n",
    "for k1 in bar(range(nK)):\n",
    "    for k2 in range(nK):\n",
    "        for c in con_bands:\n",
    "            for v in val_bands:\n",
    "                kpt1_1 = bse.pair.get_k_point(0, k1, c+fcb, c+fcb+1)\n",
    "                kpt2_1 = bse.pair.get_k_point(0, k1, v+fvb, v+fvb+1)\n",
    "                        \n",
    "                k_2=bse.kd.find_k_plus_q(bse.qd.bzk_kc[k2], [k1])[0]\n",
    "                kpt1_2 = bse.pair.get_k_point(0, k_2, c+fcb, c+fcb+1)\n",
    "                kpt2_2 = bse.pair.get_k_point(0, k_2, v+fvb, v+fvb+1)\n",
    "                        \n",
    "                rho1, iq = bse.get_density_matrix(kpt1_1,kpt1_2)\n",
    "                rho2, iq = bse.get_density_matrix(kpt2_1,kpt2_2)\n",
    "                W = np.dot(np.dot(rho1.conj(),bse.W_qGG[iq]),np.swapaxes(rho2, 1, 2))\n",
    "                V = np.dot(rho[k1,c-fvb,c-fvb].conj()*v_G,rho[k2,v-fvb,v-fvb].T)\n",
    "                        \n",
    "                H[:,k1,k2,:,c-fcb,v-fvb]-=(W-V).reshape(1)[0]                  "
   ]
  },
  {
   "cell_type": "code",
   "execution_count": null,
   "metadata": {
    "collapsed": true
   },
   "outputs": [],
   "source": []
  }
 ],
 "metadata": {
  "kernelspec": {
   "display_name": "Python 2",
   "language": "python",
   "name": "python2"
  },
  "language_info": {
   "codemirror_mode": {
    "name": "ipython",
    "version": 2
   },
   "file_extension": ".py",
   "mimetype": "text/x-python",
   "name": "python",
   "nbconvert_exporter": "python",
   "pygments_lexer": "ipython2",
   "version": "2.7.14"
  }
 },
 "nbformat": 4,
 "nbformat_minor": 2
}
